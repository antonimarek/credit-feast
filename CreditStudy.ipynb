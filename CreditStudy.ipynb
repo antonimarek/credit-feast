{
 "cells": [
  {
   "cell_type": "markdown",
   "metadata": {},
   "source": [
    "# Introduction\n",
    "This study explores the dataset made available for the competition<br>\n",
    "**Hackathon 3.x - Predict customer worth for Happy Customer Bank**<br>\n",
    "organised by _Analytics Vidhya_ in 2015.<br>\n",
    "\n",
    "For more information follow the link below:<br>\n",
    "https://discuss.analyticsvidhya.com/t/hackathon-3-x-predict-customer-worth-for-happy-customer-bank/3802\n",
    "\n",
    "### **Problem** _(as described in challange)_\n",
    "\n",
    "''Digital arms of banks today face challenges with lead conversion, they source leads through mediums like search, display, email campaigns and via affiliate partners. Here Happy Customer Bank faces same challenge of low conversion ratio. They have given a problem to identify the customers segments having higher conversion ratio for a specific loan product so that they can specifically target these customers, here they have provided a partial data set for salaried customers only from the last 3 months. They also capture basic details about customers like gender, DOB, existing EMI, employer Name, Loan Amount Required, Monthly Income, City, Interaction data and many others. Let’s look at the process at Happy Customer Bank.''\n",
    "\n",
    "### **Goal**\n",
    "\n",
    "Predict the probability of disbursal for test data set."
   ]
  },
  {
   "cell_type": "markdown",
   "metadata": {},
   "source": [
    "## Table of Contents\n",
    "\n",
    "1. **[Data preprocessing](#first-bullet)**\n",
    "2. **[Modelling](#second-bullet)**"
   ]
  },
  {
   "cell_type": "markdown",
   "metadata": {},
   "source": [
    "### Importing libraries"
   ]
  },
  {
   "cell_type": "code",
   "execution_count": 15,
   "metadata": {},
   "outputs": [],
   "source": [
    "import pandas as pd\n",
    "import numpy as np\n",
    "import matplotlib.pyplot as plt\n",
    "import wikipedia\n",
    "import re\n",
    "from bs4 import BeautifulSoup\n",
    "import seaborn as sns\n",
    "import pickle\n",
    "from sklearn.impute import KNNImputer"
   ]
  },
  {
   "cell_type": "markdown",
   "metadata": {},
   "source": [
    "## Loading the data"
   ]
  },
  {
   "cell_type": "code",
   "execution_count": 2,
   "metadata": {},
   "outputs": [
    {
     "data": {
      "text/html": [
       "<div>\n",
       "<style scoped>\n",
       "    .dataframe tbody tr th:only-of-type {\n",
       "        vertical-align: middle;\n",
       "    }\n",
       "\n",
       "    .dataframe tbody tr th {\n",
       "        vertical-align: top;\n",
       "    }\n",
       "\n",
       "    .dataframe thead th {\n",
       "        text-align: right;\n",
       "    }\n",
       "</style>\n",
       "<table border=\"1\" class=\"dataframe\">\n",
       "  <thead>\n",
       "    <tr style=\"text-align: right;\">\n",
       "      <th></th>\n",
       "      <th>ID</th>\n",
       "      <th>Gender</th>\n",
       "      <th>City</th>\n",
       "      <th>Monthly_Income</th>\n",
       "      <th>DOB</th>\n",
       "      <th>Lead_Creation_Date</th>\n",
       "      <th>Loan_Amount_Applied</th>\n",
       "      <th>Loan_Tenure_Applied</th>\n",
       "      <th>Existing_EMI</th>\n",
       "      <th>Employer_Name</th>\n",
       "      <th>...</th>\n",
       "      <th>Interest_Rate</th>\n",
       "      <th>Processing_Fee</th>\n",
       "      <th>EMI_Loan_Submitted</th>\n",
       "      <th>Filled_Form</th>\n",
       "      <th>Device_Type</th>\n",
       "      <th>Var2</th>\n",
       "      <th>Source</th>\n",
       "      <th>Var4</th>\n",
       "      <th>LoggedIn</th>\n",
       "      <th>Disbursed</th>\n",
       "    </tr>\n",
       "  </thead>\n",
       "  <tbody>\n",
       "    <tr>\n",
       "      <th>0</th>\n",
       "      <td>ID000002C20</td>\n",
       "      <td>Female</td>\n",
       "      <td>Delhi</td>\n",
       "      <td>20000</td>\n",
       "      <td>23-May-78</td>\n",
       "      <td>15-May-15</td>\n",
       "      <td>300000.0</td>\n",
       "      <td>5.0</td>\n",
       "      <td>0.0</td>\n",
       "      <td>CYBOSOL</td>\n",
       "      <td>...</td>\n",
       "      <td>NaN</td>\n",
       "      <td>NaN</td>\n",
       "      <td>NaN</td>\n",
       "      <td>N</td>\n",
       "      <td>Web-browser</td>\n",
       "      <td>G</td>\n",
       "      <td>S122</td>\n",
       "      <td>1</td>\n",
       "      <td>0</td>\n",
       "      <td>0</td>\n",
       "    </tr>\n",
       "    <tr>\n",
       "      <th>1</th>\n",
       "      <td>ID000004E40</td>\n",
       "      <td>Male</td>\n",
       "      <td>Mumbai</td>\n",
       "      <td>35000</td>\n",
       "      <td>07-Oct-85</td>\n",
       "      <td>04-May-15</td>\n",
       "      <td>200000.0</td>\n",
       "      <td>2.0</td>\n",
       "      <td>0.0</td>\n",
       "      <td>TATA CONSULTANCY SERVICES LTD (TCS)</td>\n",
       "      <td>...</td>\n",
       "      <td>13.25</td>\n",
       "      <td>NaN</td>\n",
       "      <td>6762.9</td>\n",
       "      <td>N</td>\n",
       "      <td>Web-browser</td>\n",
       "      <td>G</td>\n",
       "      <td>S122</td>\n",
       "      <td>3</td>\n",
       "      <td>0</td>\n",
       "      <td>0</td>\n",
       "    </tr>\n",
       "    <tr>\n",
       "      <th>2</th>\n",
       "      <td>ID000007H20</td>\n",
       "      <td>Male</td>\n",
       "      <td>Panchkula</td>\n",
       "      <td>22500</td>\n",
       "      <td>10-Oct-81</td>\n",
       "      <td>19-May-15</td>\n",
       "      <td>600000.0</td>\n",
       "      <td>4.0</td>\n",
       "      <td>0.0</td>\n",
       "      <td>ALCHEMIST HOSPITALS LTD</td>\n",
       "      <td>...</td>\n",
       "      <td>NaN</td>\n",
       "      <td>NaN</td>\n",
       "      <td>NaN</td>\n",
       "      <td>N</td>\n",
       "      <td>Web-browser</td>\n",
       "      <td>B</td>\n",
       "      <td>S143</td>\n",
       "      <td>1</td>\n",
       "      <td>0</td>\n",
       "      <td>0</td>\n",
       "    </tr>\n",
       "    <tr>\n",
       "      <th>3</th>\n",
       "      <td>ID000008I30</td>\n",
       "      <td>Male</td>\n",
       "      <td>Saharsa</td>\n",
       "      <td>35000</td>\n",
       "      <td>30-Nov-87</td>\n",
       "      <td>09-May-15</td>\n",
       "      <td>1000000.0</td>\n",
       "      <td>5.0</td>\n",
       "      <td>0.0</td>\n",
       "      <td>BIHAR GOVERNMENT</td>\n",
       "      <td>...</td>\n",
       "      <td>NaN</td>\n",
       "      <td>NaN</td>\n",
       "      <td>NaN</td>\n",
       "      <td>N</td>\n",
       "      <td>Web-browser</td>\n",
       "      <td>B</td>\n",
       "      <td>S143</td>\n",
       "      <td>3</td>\n",
       "      <td>0</td>\n",
       "      <td>0</td>\n",
       "    </tr>\n",
       "    <tr>\n",
       "      <th>4</th>\n",
       "      <td>ID000009J40</td>\n",
       "      <td>Male</td>\n",
       "      <td>Bengaluru</td>\n",
       "      <td>100000</td>\n",
       "      <td>17-Feb-84</td>\n",
       "      <td>20-May-15</td>\n",
       "      <td>500000.0</td>\n",
       "      <td>2.0</td>\n",
       "      <td>25000.0</td>\n",
       "      <td>GLOBAL EDGE SOFTWARE</td>\n",
       "      <td>...</td>\n",
       "      <td>NaN</td>\n",
       "      <td>NaN</td>\n",
       "      <td>NaN</td>\n",
       "      <td>N</td>\n",
       "      <td>Web-browser</td>\n",
       "      <td>B</td>\n",
       "      <td>S134</td>\n",
       "      <td>3</td>\n",
       "      <td>1</td>\n",
       "      <td>0</td>\n",
       "    </tr>\n",
       "  </tbody>\n",
       "</table>\n",
       "<p>5 rows × 26 columns</p>\n",
       "</div>"
      ],
      "text/plain": [
       "            ID  Gender       City  Monthly_Income        DOB  \\\n",
       "0  ID000002C20  Female      Delhi           20000  23-May-78   \n",
       "1  ID000004E40    Male     Mumbai           35000  07-Oct-85   \n",
       "2  ID000007H20    Male  Panchkula           22500  10-Oct-81   \n",
       "3  ID000008I30    Male    Saharsa           35000  30-Nov-87   \n",
       "4  ID000009J40    Male  Bengaluru          100000  17-Feb-84   \n",
       "\n",
       "  Lead_Creation_Date  Loan_Amount_Applied  Loan_Tenure_Applied  Existing_EMI  \\\n",
       "0          15-May-15             300000.0                  5.0           0.0   \n",
       "1          04-May-15             200000.0                  2.0           0.0   \n",
       "2          19-May-15             600000.0                  4.0           0.0   \n",
       "3          09-May-15            1000000.0                  5.0           0.0   \n",
       "4          20-May-15             500000.0                  2.0       25000.0   \n",
       "\n",
       "                         Employer_Name  ... Interest_Rate Processing_Fee  \\\n",
       "0                              CYBOSOL  ...           NaN            NaN   \n",
       "1  TATA CONSULTANCY SERVICES LTD (TCS)  ...         13.25            NaN   \n",
       "2              ALCHEMIST HOSPITALS LTD  ...           NaN            NaN   \n",
       "3                     BIHAR GOVERNMENT  ...           NaN            NaN   \n",
       "4                 GLOBAL EDGE SOFTWARE  ...           NaN            NaN   \n",
       "\n",
       "   EMI_Loan_Submitted Filled_Form  Device_Type  Var2  Source  Var4  LoggedIn  \\\n",
       "0                 NaN           N  Web-browser     G    S122     1         0   \n",
       "1              6762.9           N  Web-browser     G    S122     3         0   \n",
       "2                 NaN           N  Web-browser     B    S143     1         0   \n",
       "3                 NaN           N  Web-browser     B    S143     3         0   \n",
       "4                 NaN           N  Web-browser     B    S134     3         1   \n",
       "\n",
       "  Disbursed  \n",
       "0         0  \n",
       "1         0  \n",
       "2         0  \n",
       "3         0  \n",
       "4         0  \n",
       "\n",
       "[5 rows x 26 columns]"
      ]
     },
     "execution_count": 2,
     "metadata": {},
     "output_type": "execute_result"
    }
   ],
   "source": [
    "FILE = r'Data/Train_nyOWmfK.csv'\n",
    "data = pd.read_csv(FILE, encoding='latin1')\n",
    "data.head()"
   ]
  },
  {
   "cell_type": "markdown",
   "metadata": {},
   "source": [
    "# 1. Data preprocessing <a class=\"anchor\" id=\"first-bullet\"></a>"
   ]
  },
  {
   "cell_type": "markdown",
   "metadata": {},
   "source": [
    "## Creating dictionaries"
   ]
  },
  {
   "cell_type": "markdown",
   "metadata": {},
   "source": [
    "### Wikipedia scraping"
   ]
  },
  {
   "cell_type": "code",
   "execution_count": 5,
   "metadata": {},
   "outputs": [],
   "source": [
    "def wiki_table_scraper(title, table_num=0, header=True):\n",
    "    wikipedia.set_lang(\"en\")\n",
    "    page = wikipedia.page(title=title).html()\n",
    "    soup = BeautifulSoup(page, 'html')\n",
    "    table = soup.find_all('table', {'class':\"wikitable sortable\"})[table_num]\n",
    "    head = False\n",
    "    if header:\n",
    "        trs = table.find_all('tr')[1:]\n",
    "        head = [line.text.strip() for line in table.find_all('tr')[0].find_all('th')]\n",
    "    else:\n",
    "        trs = table.find_all('tr')\n",
    "    \n",
    "    table_list = [[n.text.strip() for n in line.find_all('td')] for line in trs]\n",
    "    result = pd.DataFrame(data=table_list, columns=head)\n",
    "    return result"
   ]
  },
  {
   "cell_type": "markdown",
   "metadata": {},
   "source": [
    "#### Assigning state to particular city\n",
    "**1st approach:** _Retrieving information from the Indian population table_"
   ]
  },
  {
   "cell_type": "code",
   "execution_count": 6,
   "metadata": {},
   "outputs": [],
   "source": [
    "def match_state():\n",
    "    city_state = wiki_table_scraper('List_of_cities_in_India_by_population')\n",
    "    city_state.City = city_state.City.apply(lambda x: re.search(r'[\\w]+', x).group())\n",
    "    city_state.iloc[:,4] = city_state.iloc[:,4].apply(lambda x: re.search(r'[\\w ]+', x).group())\n",
    "    state_dict = city_state.set_index(city_state.iloc[:,1]).iloc[:,4].to_dict()\n",
    "    return state_dict"
   ]
  },
  {
   "cell_type": "markdown",
   "metadata": {},
   "source": [
    "**2nd approach:** _Search for specific queries_  >>>  _(Filling in the missing information for cities not included in the table.)_"
   ]
  },
  {
   "cell_type": "code",
   "execution_count": 7,
   "metadata": {},
   "outputs": [],
   "source": [
    "def unmatched(df, match_dict, key):\n",
    "    non_match = df[~df[key].isin(match_dict.keys())][key].value_counts().index\n",
    "    return non_match"
   ]
  },
  {
   "cell_type": "code",
   "execution_count": 8,
   "metadata": {},
   "outputs": [],
   "source": [
    "def match_state_complex(state_names, unmatched, a_sugg=False):    \n",
    "    matching = {}\n",
    "    for name in unmatched:\n",
    "        try:\n",
    "            page_key = wikipedia.search(f'{name} india')[0]\n",
    "            page_summary = wikipedia.page(page_key, auto_suggest=a_sugg).summary\n",
    "            matching[name] = page_summary\n",
    "        except:\n",
    "            pass\n",
    "    match_df = pd.DataFrame.from_dict(matching, orient='index')\n",
    "    match_df.index\n",
    "    \n",
    "    matching_states = {}\n",
    "    for ix in match_df.index:\n",
    "        try:\n",
    "            for word in (match_df.loc[ix, 0]).split():\n",
    "                if word in state_names:\n",
    "                    correct_state = word\n",
    "                    break\n",
    "            matching_states[ix] = correct_state\n",
    "        except:\n",
    "            pass\n",
    "    return matching_states"
   ]
  },
  {
   "cell_type": "markdown",
   "metadata": {},
   "source": [
    "#### Assigning GDPs to states"
   ]
  },
  {
   "cell_type": "code",
   "execution_count": 9,
   "metadata": {},
   "outputs": [],
   "source": [
    "def match_state_GDP():\n",
    "    gdpS = wiki_table_scraper('List_of_Indian_states_and_union_territories_by_GDP')\n",
    "    gdpS.iloc[:,2] = gdpS.iloc[:,2].apply(lambda x: re.search(r'\\d+.\\d+ la', x).group()[:-3]).map(float)\n",
    "    state_to_gdp = gdpS.set_index(gdpS.iloc[:,1]).iloc[:,2].to_dict()\n",
    "    return state_to_gdp"
   ]
  },
  {
   "cell_type": "markdown",
   "metadata": {},
   "source": [
    "#### Assigning population count to cities"
   ]
  },
  {
   "cell_type": "code",
   "execution_count": 10,
   "metadata": {},
   "outputs": [],
   "source": [
    "def match_population():\n",
    "    city_table = wiki_table_scraper('List_of_cities_in_India_by_population')\n",
    "    city_table.City = city_table.City.apply(lambda x: re.search(r'[\\w]+', x).group())\n",
    "    city_table.iloc[:,2] = city_table.iloc[:,2].apply(lambda x: x.replace(',','')).map(int)\n",
    "    city_pop_dict = city_table.set_index(city_table.iloc[:,1]).iloc[:,2].to_dict()\n",
    "    return city_pop_dict"
   ]
  },
  {
   "cell_type": "code",
   "execution_count": 11,
   "metadata": {},
   "outputs": [],
   "source": [
    "def create_dictionaries(dataframe):\n",
    "#     city_to_state = match_state()\n",
    "#     states = set(city_to_state.values()) # set of India's states for further use\n",
    "\n",
    "#     non_matched = unmatched(dataframe, city_to_state, 'City')\n",
    "#     city_to_state.update(match_state_complex(states, non_matched))\n",
    "    \n",
    "    #------------------------------------------------\n",
    "    # with open('city_to_state.pkl', 'wb') as f:\n",
    "    #         pickle.dump(city_to_state, f)\n",
    "\n",
    "    with open('city_to_state.pkl', 'rb') as f:\n",
    "            city_to_state = pickle.load(f)\n",
    "    #------------------------------------------------\n",
    "    states = set(city_to_state.values())\n",
    "    \n",
    "    non_matched = unmatched(dataframe, city_to_state, 'City')\n",
    "    city_to_state.update(match_state_complex(states, non_matched, a_sugg=True))\n",
    "\n",
    "    states_not_matched = unmatched(dataframe, city_to_state, 'City')\n",
    "    \n",
    "    GDP_dict = match_state_GDP()\n",
    "    city_population = match_population()\n",
    "    \n",
    "    # Creating City Rank with first 20 cities sorted by most frequent occurrence in the data\n",
    "    city_rank_keys = dataframe.City.value_counts()[:20].keys()\n",
    "    \n",
    "    gender_dict = {'Female': 1, 'Male': 0}\n",
    "    \n",
    "    # Creating Employer Rank with first 15 Employers sorted by most frequent occurrence in the data\n",
    "    employer_rank_keys = dataframe.Employer_Name.value_counts()[:15].keys()\n",
    "    \n",
    "    return city_to_state, GDP_dict, city_population, city_rank_keys, gender_dict, employer_rank_keys, states_not_matched"
   ]
  },
  {
   "cell_type": "markdown",
   "metadata": {},
   "source": [
    "#### Dates processing"
   ]
  },
  {
   "cell_type": "code",
   "execution_count": 12,
   "metadata": {},
   "outputs": [],
   "source": [
    "def manage_dates(dataset):\n",
    "    dataset['DOB'] = pd.to_datetime(dataset['DOB'], format='%d-%b-%y')\n",
    "    dataset['Lead_Creation_Date'] = pd.to_datetime(dataset['Lead_Creation_Date'], format='%d-%b-%y')\n",
    "    dataset['Age_at_lead'] =  dataset['Lead_Creation_Date'].dt.year - dataset['DOB'].dt.year\n",
    "    dataset['Age_at_lead'] = dataset['Age_at_lead'].where(dataset['Age_at_lead'] > 0, dataset['Age_at_lead']+100)\n",
    "    return dataset"
   ]
  },
  {
   "cell_type": "markdown",
   "metadata": {},
   "source": [
    "#### Monthly Income\n",
    "Cutting part of the outliers with substitution to the maximum value _100 000_ (this value is still over upper IQR bound)"
   ]
  },
  {
   "cell_type": "code",
   "execution_count": 13,
   "metadata": {},
   "outputs": [
    {
     "data": {
      "image/png": "[encoded data removed]",
      "text/plain": [
       "<Figure size 1080x216 with 2 Axes>"
      ]
     },
     "metadata": {
      "needs_background": "light"
     },
     "output_type": "display_data"
    }
   ],
   "source": [
    "fig, axs = plt.subplots(1, 2, figsize=(15,3))\n",
    "\n",
    "sns.boxplot(x=data.Monthly_Income, ax=axs[0])\n",
    "axs[0].title.set_text(\"Original Data\")\n",
    "sns.boxplot(x=data.Monthly_Income.where(data.Monthly_Income < 100000, other=100000), ax=axs[1])\n",
    "axs[1].title.set_text(\"Outliers cut-off\")\n",
    "\n",
    "plt.show()"
   ]
  },
  {
   "cell_type": "code",
   "execution_count": 14,
   "metadata": {},
   "outputs": [],
   "source": [
    "def data_preprocessing(dataframe):\n",
    "    # Creating new columns with dictionaries\n",
    "    dataframe['State'] = dataframe.City.map(to_state)\n",
    "    dataframe['StateGDP'] = dataframe.State.map(GDPs).map(float)\n",
    "    dataframe['City_population'] = dataframe.City.map(population)\n",
    "    dataframe['City_rank'] = dataframe.City.where(dataframe.City.isin(city_rank), other='other')\n",
    "    dataframe.Gender = dataframe.Gender.map(gender_dict)\n",
    "    dataframe['Employer_rank'] = data.Employer_Name.where(data.Employer_Name.isin(employer_rank_keys), other='other')\n",
    "        \n",
    "    dataframe.Monthly_Income = dataframe.Monthly_Income.where(dataframe.Monthly_Income < 100000, other=100000)\n",
    "    \n",
    "    mobile_dict = {'Y': 1, 'N': 0}\n",
    "    dataframe.Mobile_Verified = dataframe.Mobile_Verified.map(mobile_dict)\n",
    "    \n",
    "    # Managing dates\n",
    "    dataframe = manage_dates(dataframe)\n",
    "    \n",
    "    # Imputing missing Interest_Rate and Processing_Fee data with KNN - fully Nan rows are ommited\n",
    "    for_impute = dataframe[['Loan_Amount_Submitted', 'Loan_Tenure_Submitted', 'Interest_Rate', 'Processing_Fee']].dropna(how='all')\n",
    "    imputer = KNNImputer(n_neighbors=2)\n",
    "    imputed = imputer.fit_transform(for_impute)\n",
    "    dataframe['Interest_Rate_Imputed'] = pd.DataFrame(imputed, index=for_impute.index)[2]\n",
    "    dataframe['Processing_Fee_Imputed'] = pd.DataFrame(imputed, index=for_impute.index)[3]\n",
    "\n",
    "    # creating additional columns: EMI calculated and EMI/Income ratios\n",
    "    EMI_P = dataframe.Loan_Amount_Submitted\n",
    "    EMI_R = dataframe.Interest_Rate_Imputed/12/100\n",
    "    EMI_N = dataframe.Loan_Tenure_Submitted*12\n",
    "\n",
    "    dataframe['EMI_sub_calc'] = (EMI_P * EMI_R * (1 + EMI_R)**EMI_N) / ((1 + EMI_R)**EMI_N - 1)\n",
    "    dataframe['EMI_Income_tot_ratio'] = (dataframe.Existing_EMI + dataframe.EMI_sub_calc) / dataframe.Monthly_Income\n",
    "    dataframe['EMI_sub_Income_ratio'] = dataframe.EMI_sub_calc / dataframe.Monthly_Income\n",
    "    \n",
    "    # dropping unnecessary columns\n",
    "    dataframe = dataframe.drop(['ID', 'DOB', 'Lead_Creation_Date', 'City', 'Employer_Name',\n",
    "                                'Salary_Account', 'Processing_Fee', 'Filled_Form', 'Device_Type',\n",
    "                                'State','Interest_Rate', 'EMI_Loan_Submitted'], axis=1)\n",
    "    \n",
    "    # setting proper category\n",
    "    cat_list = ['Gender', 'Mobile_Verified', 'Var1', 'Var2', 'Source', 'Var4', 'City_rank', 'Employer_rank']\n",
    "    dataframe[cat_list] = dataframe[cat_list].astype('category')\n",
    "    \n",
    "    return dataframe"
   ]
  },
  {
   "cell_type": "code",
   "execution_count": 15,
   "metadata": {
    "collapsed": true,
    "jupyter": {
     "outputs_hidden": true
    }
   },
   "outputs": [
    {
     "name": "stderr",
     "output_type": "stream",
     "text": [
      "c:\\users\\antos\\appdata\\local\\programs\\python\\python38\\lib\\site-packages\\wikipedia\\wikipedia.py:389: GuessedAtParserWarning: No parser was explicitly specified, so I'm using the best available HTML parser for this system (\"lxml\"). This usually isn't a problem, but if you run this code on another system, or in a different virtual environment, it may use a different parser and behave differently.\n",
      "\n",
      "The code that caused this warning is on line 389 of the file c:\\users\\antos\\appdata\\local\\programs\\python\\python38\\lib\\site-packages\\wikipedia\\wikipedia.py. To get rid of this warning, pass the additional argument 'features=\"lxml\"' to the BeautifulSoup constructor.\n",
      "\n",
      "  lis = BeautifulSoup(html).find_all('li')\n"
     ]
    }
   ],
   "source": [
    "to_state, GDPs, population, city_rank, gender_dict, employer_rank_keys, states_not_matched = create_dictionaries(data)"
   ]
  },
  {
   "cell_type": "markdown",
   "metadata": {},
   "source": [
    "There are a few cities with no state assigned - for the purpose of simplicity they will be ignored in this study:"
   ]
  },
  {
   "cell_type": "code",
   "execution_count": 16,
   "metadata": {},
   "outputs": [
    {
     "name": "stdout",
     "output_type": "stream",
     "text": [
      "AHMEDB                  9\n",
      "Pontashaib              7\n",
      "Janigir - Champa        7\n",
      "Proddattur              6\n",
      "SURENDERNAGAR           4\n",
      "Kamrup Metropolitian    4\n",
      "DHANGARDHA              3\n",
      "Banaskhantha            3\n",
      "Kabri Anglong           1\n",
      "Surendra Nagar          1\n",
      "SOMNATH JUNAGADHA       1\n",
      "Chinnamiram             1\n",
      "Name: City, dtype: int64\n",
      "\n",
      "Missing 47 values.\n"
     ]
    }
   ],
   "source": [
    "print(data[data.City.isin(states_not_matched)].City.value_counts())\n",
    "print('\\nMissing', data[data.City.isin(states_not_matched)].City.count(), 'values.')"
   ]
  },
  {
   "cell_type": "code",
   "execution_count": 17,
   "metadata": {},
   "outputs": [],
   "source": [
    "data_for_modeling = data_preprocessing(data)"
   ]
  },
  {
   "cell_type": "code",
   "execution_count": 3,
   "metadata": {},
   "outputs": [],
   "source": [
    "# with open('data_for_modeling.pkl', 'wb') as f:\n",
    "#     pickle.dump(data_for_modeling, f)\n",
    "\n",
    "with open('data_for_modeling.pkl', 'rb') as f:\n",
    "    data_for_modeling = pickle.load(f)"
   ]
  },
  {
   "cell_type": "code",
   "execution_count": 4,
   "metadata": {},
   "outputs": [],
   "source": [
    "data_for_modeling = data_for_modeling.drop(['LoggedIn'], axis=1)"
   ]
  },
  {
   "cell_type": "code",
   "execution_count": 5,
   "metadata": {},
   "outputs": [
    {
     "name": "stdout",
     "output_type": "stream",
     "text": [
      "<class 'pandas.core.frame.DataFrame'>\n",
      "RangeIndex: 87020 entries, 0 to 87019\n",
      "Data columns (total 24 columns):\n",
      " #   Column                  Non-Null Count  Dtype   \n",
      "---  ------                  --------------  -----   \n",
      " 0   Gender                  87020 non-null  category\n",
      " 1   Monthly_Income          87020 non-null  int64   \n",
      " 2   Loan_Amount_Applied     86949 non-null  float64 \n",
      " 3   Loan_Tenure_Applied     86949 non-null  float64 \n",
      " 4   Existing_EMI            86949 non-null  float64 \n",
      " 5   Mobile_Verified         87020 non-null  category\n",
      " 6   Var5                    87020 non-null  int64   \n",
      " 7   Var1                    87020 non-null  category\n",
      " 8   Loan_Amount_Submitted   52407 non-null  float64 \n",
      " 9   Loan_Tenure_Submitted   52407 non-null  float64 \n",
      " 10  Var2                    87020 non-null  category\n",
      " 11  Source                  87020 non-null  category\n",
      " 12  Var4                    87020 non-null  category\n",
      " 13  Disbursed               87020 non-null  category\n",
      " 14  StateGDP                85970 non-null  float64 \n",
      " 15  City_population         69751 non-null  float64 \n",
      " 16  City_rank               87020 non-null  category\n",
      " 17  Employer_rank           87020 non-null  category\n",
      " 18  Age_at_lead             87020 non-null  int64   \n",
      " 19  Interest_Rate_Imputed   52407 non-null  float64 \n",
      " 20  Processing_Fee_Imputed  52407 non-null  float64 \n",
      " 21  EMI_sub_calc            52407 non-null  float64 \n",
      " 22  EMI_Income_tot_ratio    52371 non-null  float64 \n",
      " 23  EMI_sub_Income_ratio    52407 non-null  float64 \n",
      "dtypes: category(9), float64(12), int64(3)\n",
      "memory usage: 10.7 MB\n"
     ]
    }
   ],
   "source": [
    "data_for_modeling.info()"
   ]
  },
  {
   "cell_type": "markdown",
   "metadata": {},
   "source": [
    "Because of significant amount of missing data, **nulls will be assigned (-1)**. _(Lack of data can also carry useful information)_<br>\n",
    "In such case modeling will be limited to **Tree model types**."
   ]
  },
  {
   "cell_type": "markdown",
   "metadata": {},
   "source": [
    " - You can get by without probability estimates, but if you need them, use calibration (see sklearn.calibration.CalibratedClassifierCV)\n",
    "\n",
    "UNDERSAMPLING + BAGGING"
   ]
  },
  {
   "cell_type": "markdown",
   "metadata": {},
   "source": [
    "# 2. Modelling <a class=\"anchor\" id=\"second-bullet\"></a>"
   ]
  },
  {
   "cell_type": "code",
   "execution_count": 6,
   "metadata": {},
   "outputs": [],
   "source": [
    "from sklearn.model_selection import train_test_split, RepeatedStratifiedKFold, cross_val_score\n",
    "from sklearn.model_selection import RandomizedSearchCV, GridSearchCV\n",
    "\n",
    "from sklearn.metrics import roc_auc_score\n",
    "import scipy.stats as ss\n",
    "\n",
    "from sklearn.preprocessing import OneHotEncoder, StandardScaler\n",
    "from sklearn.compose import ColumnTransformer\n",
    "from sklearn.impute import MissingIndicator, SimpleImputer\n",
    "from sklearn.pipeline import Pipeline\n",
    "from sklearn.ensemble import RandomForestClassifier\n",
    "from xgboost.sklearn import XGBClassifier\n",
    "\n",
    "from collections import Counter"
   ]
  },
  {
   "cell_type": "markdown",
   "metadata": {},
   "source": [
    "## Evaluation Cirteria\n",
    "Evaluation metrics of this challenge was ROC_AUC."
   ]
  },
  {
   "cell_type": "code",
   "execution_count": 7,
   "metadata": {},
   "outputs": [],
   "source": [
    "def model_scoring(model,y_tr, X_tr ,y_te, X_te):\n",
    "    y_pred_train = model.predict_proba(X_tr)[:,1]\n",
    "    train_score = roc_auc_score(y_tr, y_pred_train)\n",
    "    y_pred_test = model.predict_proba(X_te)[:,1]\n",
    "    test_score = roc_auc_score(y_te, y_pred_test)\n",
    "    cv_scoring = cross_val_score(model, X_train, y_train, scoring='roc_auc', cv=skf, n_jobs=-2)\n",
    "    print(f'CV score on training set: {cv_scoring.mean().round(4)}')\n",
    "    print(f'Train ROC_AUC Score: {train_score.round(4)}')\n",
    "    print(f'Test ROC_AUC Score: {test_score.round(4)}')"
   ]
  },
  {
   "cell_type": "markdown",
   "metadata": {},
   "source": [
    "## Imbalance Check"
   ]
  },
  {
   "cell_type": "code",
   "execution_count": 8,
   "metadata": {},
   "outputs": [
    {
     "data": {
      "image/png": "[encoded data removed]",
      "text/plain": [
       "<Figure size 432x288 with 1 Axes>"
      ]
     },
     "metadata": {
      "needs_background": "light"
     },
     "output_type": "display_data"
    }
   ],
   "source": [
    "disbursed_count = data_for_modeling.Disbursed.value_counts().values\n",
    "sns.barplot(x=[0,1], y=disbursed_count)\n",
    "plt.xticks([0,1], labels=[f'No: {disbursed_count[0]}', f'Yes: {disbursed_count[1]}'])\n",
    "plt.yticks([])\n",
    "plt.title('Disbursed count')\n",
    "plt.show()"
   ]
  },
  {
   "cell_type": "markdown",
   "metadata": {},
   "source": [
    "**Significant imbalance in data will have to be adressed in modeling phase.**<br>\n",
    "Stratified K-Folds cross-validator will be used to partially deal with this issue."
   ]
  },
  {
   "cell_type": "code",
   "execution_count": 13,
   "metadata": {},
   "outputs": [],
   "source": [
    "skf = RepeatedStratifiedKFold(n_splits=5, n_repeats=2)"
   ]
  },
  {
   "cell_type": "markdown",
   "metadata": {},
   "source": [
    "## Preparing sets for modelling"
   ]
  },
  {
   "cell_type": "code",
   "execution_count": 8,
   "metadata": {},
   "outputs": [],
   "source": [
    "X, y = data_for_modeling.drop([\"Disbursed\"], axis=1), data_for_modeling.Disbursed\n",
    "\n",
    "num_list = list(X.select_dtypes(exclude='category').columns)\n",
    "cat_list = list(X.select_dtypes(include='category').columns)\n",
    "\n",
    "num_pipe = Pipeline([('Imputer', SimpleImputer(strategy='constant', fill_value=-1))])\n",
    "cat_pipe = Pipeline([('OHE', OneHotEncoder(sparse=False))])\n",
    "preprocessor = ColumnTransformer(transformers=[('cat', cat_pipe, cat_list),\n",
    "                                               ('num', num_pipe, num_list)])\n",
    "X = preprocessor.fit_transform(X)"
   ]
  },
  {
   "cell_type": "code",
   "execution_count": 9,
   "metadata": {},
   "outputs": [],
   "source": [
    "X_train, X_test, y_train, y_test = train_test_split(X, y, test_size=.1, random_state=20, stratify=y)"
   ]
  },
  {
   "cell_type": "markdown",
   "metadata": {},
   "source": [
    "Due to missing date in set search for the right model was limited to a class of tree models.<br>\n",
    "## RFC model\n",
    "First try - _default_ **RFC**:"
   ]
  },
  {
   "cell_type": "code",
   "execution_count": 66,
   "metadata": {},
   "outputs": [
    {
     "name": "stdout",
     "output_type": "stream",
     "text": [
      "CV score on training set: 0.768\n",
      "Train ROC_AUC Score: 1.0\n",
      "Test ROC_AUC Score: 0.8079\n"
     ]
    }
   ],
   "source": [
    "model = RandomForestClassifier()\n",
    "model.fit(X_train, y_train)\n",
    "model_scoring(model, y_train, X_train, y_test, X_test)"
   ]
  },
  {
   "cell_type": "markdown",
   "metadata": {},
   "source": [
    "As expected, default model is overfitting the data.<br>\n",
    "Limmited samples in leaves should do the trick (as below)."
   ]
  },
  {
   "cell_type": "code",
   "execution_count": 67,
   "metadata": {},
   "outputs": [
    {
     "name": "stdout",
     "output_type": "stream",
     "text": [
      "CV score on training set: 0.8346\n",
      "Train ROC_AUC Score: 0.9161\n",
      "Test ROC_AUC Score: 0.8613\n"
     ]
    }
   ],
   "source": [
    "model = RandomForestClassifier(min_samples_leaf=50)\n",
    "model.fit(X_train, y_train)\n",
    "model_scoring(model, y_train, X_train, y_test, X_test)"
   ]
  },
  {
   "cell_type": "markdown",
   "metadata": {},
   "source": [
    "Significant improvement can already be seen at this point. <br>\n",
    "Weighted class modelling also increases the score."
   ]
  },
  {
   "cell_type": "code",
   "execution_count": 68,
   "metadata": {},
   "outputs": [
    {
     "name": "stdout",
     "output_type": "stream",
     "text": [
      "CV score on training set: 0.8375\n",
      "Train ROC_AUC Score: 0.9342\n",
      "Test ROC_AUC Score: 0.868\n"
     ]
    }
   ],
   "source": [
    "model = RandomForestClassifier(min_samples_leaf=50, class_weight='balanced')\n",
    "model.fit(X_train, y_train)\n",
    "model_scoring(model, y_train, X_train, y_test, X_test)"
   ]
  },
  {
   "cell_type": "markdown",
   "metadata": {},
   "source": [
    "### Searching for optimal parameter combination (RFC)"
   ]
  },
  {
   "cell_type": "code",
   "execution_count": 106,
   "metadata": {},
   "outputs": [],
   "source": [
    "model = RandomForestClassifier(class_weight='balanced')\n",
    "param_grid = {'n_estimators': [150, 200, 250],\n",
    "              'min_samples_leaf': [50, 60, 70],\n",
    "              'max_depth': [5, 8, None]\n",
    "              }\n",
    "grid = GridSearchCV(model, param_grid,\n",
    "                    cv=skf,\n",
    "                    scoring='roc_auc',\n",
    "                    n_jobs=-1)"
   ]
  },
  {
   "cell_type": "code",
   "execution_count": 107,
   "metadata": {},
   "outputs": [
    {
     "data": {
      "text/plain": [
       "GridSearchCV(cv=RepeatedStratifiedKFold(n_repeats=5, n_splits=5, random_state=None),\n",
       "             estimator=RandomForestClassifier(class_weight='balanced'),\n",
       "             n_jobs=-1,\n",
       "             param_grid={'max_depth': [5, 8, None],\n",
       "                         'min_samples_leaf': [50, 60, 70],\n",
       "                         'n_estimators': [150, 200, 250]},\n",
       "             scoring='roc_auc')"
      ]
     },
     "execution_count": 107,
     "metadata": {},
     "output_type": "execute_result"
    }
   ],
   "source": [
    "grid.fit(X_train, y_train)"
   ]
  },
  {
   "cell_type": "code",
   "execution_count": 11,
   "metadata": {},
   "outputs": [],
   "source": [
    "with open('grid_RFC.pkl', 'rb') as f:\n",
    "    grid = pickle.load(f)"
   ]
  },
  {
   "cell_type": "code",
   "execution_count": 12,
   "metadata": {},
   "outputs": [
    {
     "data": {
      "text/plain": [
       "{'max_depth': None, 'min_samples_leaf': 50, 'n_estimators': 200}"
      ]
     },
     "execution_count": 12,
     "metadata": {},
     "output_type": "execute_result"
    }
   ],
   "source": [
    "grid.best_params_"
   ]
  },
  {
   "cell_type": "code",
   "execution_count": 32,
   "metadata": {},
   "outputs": [
    {
     "name": "stdout",
     "output_type": "stream",
     "text": [
      "Best grid estimator CV score on training set: 0.8383\n",
      "Train ROC_AUC Score: 0.935\n",
      "Test ROC_AUC Score: 0.8694\n"
     ]
    }
   ],
   "source": [
    "best_ix = np.where(grid.cv_results_['rank_test_score']==1)[0]\n",
    "grid_best_cv = grid.cv_results_['mean_test_score'][best_ix]\n",
    "print(f'Best grid estimator CV score on training set: {grid_best_cv[0].round(4)}')\n",
    "model_scoring(grid, y_train, X_train, y_test, X_test)"
   ]
  },
  {
   "cell_type": "markdown",
   "metadata": {},
   "source": [
    "### Feature selection"
   ]
  },
  {
   "cell_type": "code",
   "execution_count": 39,
   "metadata": {},
   "outputs": [
    {
     "data": {
      "image/png": "[encoded data removed]",
      "text/plain": [
       "<Figure size 1440x288 with 1 Axes>"
      ]
     },
     "metadata": {
      "needs_background": "light"
     },
     "output_type": "display_data"
    }
   ],
   "source": [
    "f_imp = grid.best_estimator_.feature_importances_\n",
    "plt.figure(figsize=(20,4))\n",
    "sns.barplot(x=[n for n,_ in enumerate(f_imp)], y=f_imp)\n",
    "plt.xticks(rotation=90)\n",
    "plt.xlabel('Feature index')\n",
    "plt.ylabel('Feature importance')\n",
    "plt.title('Feature importances', fontdict={'fontsize': 15})\n",
    "plt.show()"
   ]
  },
  {
   "cell_type": "markdown",
   "metadata": {},
   "source": [
    "Basing on RFC results, number of features could be reduced.<br>\n",
    "**Removing all features with 0 importance score**"
   ]
  },
  {
   "cell_type": "code",
   "execution_count": 40,
   "metadata": {},
   "outputs": [
    {
     "data": {
      "text/plain": [
       "(87020, 91)"
      ]
     },
     "execution_count": 40,
     "metadata": {},
     "output_type": "execute_result"
    }
   ],
   "source": [
    "non_zero_ind = np.where(f_imp>0)[0]\n",
    "X[:,non_zero_ind].shape"
   ]
  },
  {
   "cell_type": "code",
   "execution_count": 35,
   "metadata": {},
   "outputs": [
    {
     "name": "stdout",
     "output_type": "stream",
     "text": [
      "CV score on training set: 0.8388\n",
      "Train ROC_AUC Score: 0.9271\n",
      "Test ROC_AUC Score: 0.8671\n"
     ]
    }
   ],
   "source": [
    "# with earlier set\n",
    "model = RandomForestClassifier(n_estimators=250, min_samples_leaf=60, class_weight='balanced')\n",
    "model.fit(X_train, y_train)\n",
    "model_scoring(model, y_train, X_train, y_test, X_test)"
   ]
  },
  {
   "cell_type": "code",
   "execution_count": 42,
   "metadata": {},
   "outputs": [],
   "source": [
    "X_train_fs, X_test_fs = X_train[:,non_zero_ind], X_test[:,non_zero_ind]"
   ]
  },
  {
   "cell_type": "code",
   "execution_count": 44,
   "metadata": {},
   "outputs": [
    {
     "name": "stdout",
     "output_type": "stream",
     "text": [
      "CV score on training set: 0.8373\n",
      "Train ROC_AUC Score: 0.9356\n",
      "Test ROC_AUC Score: 0.8706\n"
     ]
    }
   ],
   "source": [
    "# with feature reduction\n",
    "model = RandomForestClassifier(n_estimators=250, min_samples_leaf=60, class_weight='balanced')\n",
    "model.fit(X_train_fs, y_train)\n",
    "model_scoring(model, y_train, X_train_fs, y_test, X_test_fs)"
   ]
  },
  {
   "cell_type": "code",
   "execution_count": 45,
   "metadata": {},
   "outputs": [
    {
     "name": "stdout",
     "output_type": "stream",
     "text": [
      "CV score on training set: 0.8385\n",
      "Train ROC_AUC Score: 0.9354\n",
      "Test ROC_AUC Score: 0.8692\n"
     ]
    }
   ],
   "source": [
    "# with feature reduction\n",
    "model = RandomForestClassifier(n_estimators=200, min_samples_leaf=60, class_weight='balanced')\n",
    "model.fit(X_train_fs, y_train)\n",
    "model_scoring(model, y_train, X_train_fs, y_test, X_test_fs)"
   ]
  },
  {
   "cell_type": "markdown",
   "metadata": {},
   "source": [
    "There is no significant improvement after feature selection for RFC, but feature reduction could potentially improve performance for other types of models."
   ]
  },
  {
   "cell_type": "markdown",
   "metadata": {},
   "source": [
    "## XGBoost model"
   ]
  },
  {
   "cell_type": "markdown",
   "metadata": {},
   "source": [
    "With default settings this model performes quite well - still overfitting the data."
   ]
  },
  {
   "cell_type": "code",
   "execution_count": 46,
   "metadata": {},
   "outputs": [
    {
     "name": "stderr",
     "output_type": "stream",
     "text": [
      "c:\\users\\antos\\appdata\\local\\programs\\python\\python38\\lib\\site-packages\\xgboost\\sklearn.py:888: UserWarning: The use of label encoder in XGBClassifier is deprecated and will be removed in a future release. To remove this warning, do the following: 1) Pass option use_label_encoder=False when constructing XGBClassifier object; and 2) Encode your labels (y) as integers starting with 0, i.e. 0, 1, 2, ..., [num_class - 1].\n",
      "  warnings.warn(label_encoder_deprecation_msg, UserWarning)\n"
     ]
    },
    {
     "name": "stdout",
     "output_type": "stream",
     "text": [
      "[21:55:37] WARNING: C:/Users/Administrator/workspace/xgboost-win64_release_1.3.0/src/learner.cc:1061: Starting in XGBoost 1.3.0, the default evaluation metric used with the objective 'binary:logistic' was changed from 'error' to 'logloss'. Explicitly set eval_metric if you'd like to restore the old behavior.\n",
      "CV score on training set: 0.833\n",
      "Train ROC_AUC Score: 0.9758\n",
      "Test ROC_AUC Score: 0.8505\n"
     ]
    }
   ],
   "source": [
    "model = XGBClassifier(objective='binary:logistic',\n",
    "                      use_label_encoder=False)\n",
    "model.fit(X_train, y_train)\n",
    "model_scoring(model, y_train, X_train, y_test, X_test)"
   ]
  },
  {
   "cell_type": "markdown",
   "metadata": {},
   "source": [
    "With _balancing of positive and negative weights_ model seems to overfit the data, but for more complex settings it will actually enhence the performance."
   ]
  },
  {
   "cell_type": "code",
   "execution_count": 47,
   "metadata": {},
   "outputs": [
    {
     "name": "stdout",
     "output_type": "stream",
     "text": [
      "67.36\n"
     ]
    }
   ],
   "source": [
    "counter = Counter(y)\n",
    "scale_weight = np.round(counter[0]/counter[1], 2)\n",
    "print(scale_weight)"
   ]
  },
  {
   "cell_type": "code",
   "execution_count": 48,
   "metadata": {},
   "outputs": [
    {
     "name": "stdout",
     "output_type": "stream",
     "text": [
      "[21:56:19] WARNING: C:/Users/Administrator/workspace/xgboost-win64_release_1.3.0/src/learner.cc:1061: Starting in XGBoost 1.3.0, the default evaluation metric used with the objective 'binary:logistic' was changed from 'error' to 'logloss'. Explicitly set eval_metric if you'd like to restore the old behavior.\n",
      "CV score on training set: 0.8142\n",
      "Train ROC_AUC Score: 0.9882\n",
      "Test ROC_AUC Score: 0.8243\n"
     ]
    }
   ],
   "source": [
    "model = XGBClassifier(objective='binary:logistic', scale_pos_weight=scale_weight,\n",
    "                      use_label_encoder=False)\n",
    "model.fit(X_train, y_train)\n",
    "model_scoring(model, y_train, X_train, y_test, X_test)"
   ]
  },
  {
   "cell_type": "markdown",
   "metadata": {},
   "source": [
    "**First 'blind' shot of parameters:**"
   ]
  },
  {
   "cell_type": "code",
   "execution_count": 49,
   "metadata": {},
   "outputs": [
    {
     "name": "stdout",
     "output_type": "stream",
     "text": [
      "[21:57:04] WARNING: C:/Users/Administrator/workspace/xgboost-win64_release_1.3.0/src/learner.cc:1061: Starting in XGBoost 1.3.0, the default evaluation metric used with the objective 'binary:logistic' was changed from 'error' to 'logloss'. Explicitly set eval_metric if you'd like to restore the old behavior.\n",
      "CV score on training set: 0.8395\n",
      "Train ROC_AUC Score: 0.9098\n",
      "Test ROC_AUC Score: 0.8538\n"
     ]
    }
   ],
   "source": [
    "model = XGBClassifier(n_estimators=150, learning_rate=0.03, max_depth=7,\n",
    "                      use_label_encoder=False,\n",
    "                      objective='binary:logistic')\n",
    "model.fit(X_train, y_train)\n",
    "model_scoring(model, y_train, X_train, y_test, X_test)"
   ]
  },
  {
   "cell_type": "markdown",
   "metadata": {},
   "source": [
    "The same model, but with scale weights - **better preformance**:"
   ]
  },
  {
   "cell_type": "code",
   "execution_count": 50,
   "metadata": {},
   "outputs": [
    {
     "name": "stdout",
     "output_type": "stream",
     "text": [
      "[21:58:27] WARNING: C:/Users/Administrator/workspace/xgboost-win64_release_1.3.0/src/learner.cc:1061: Starting in XGBoost 1.3.0, the default evaluation metric used with the objective 'binary:logistic' was changed from 'error' to 'logloss'. Explicitly set eval_metric if you'd like to restore the old behavior.\n",
      "CV score on training set: 0.8417\n",
      "Train ROC_AUC Score: 0.9212\n",
      "Test ROC_AUC Score: 0.8653\n"
     ]
    }
   ],
   "source": [
    "model = XGBClassifier(n_estimators=150, learning_rate=0.03, max_depth=7, scale_pos_weight=scale_weight,\n",
    "                      use_label_encoder=False,\n",
    "                      objective='binary:logistic')\n",
    "model.fit(X_train, y_train)\n",
    "model_scoring(model, y_train, X_train, y_test, X_test)"
   ]
  },
  {
   "cell_type": "markdown",
   "metadata": {},
   "source": [
    "Manual correction of parameters:"
   ]
  },
  {
   "cell_type": "code",
   "execution_count": 51,
   "metadata": {},
   "outputs": [
    {
     "name": "stdout",
     "output_type": "stream",
     "text": [
      "[22:00:05] WARNING: C:/Users/Administrator/workspace/xgboost-win64_release_1.3.0/src/learner.cc:1061: Starting in XGBoost 1.3.0, the default evaluation metric used with the objective 'binary:logistic' was changed from 'error' to 'logloss'. Explicitly set eval_metric if you'd like to restore the old behavior.\n",
      "CV score on training set: 0.8443\n",
      "Train ROC_AUC Score: 0.9415\n",
      "Test ROC_AUC Score: 0.867\n"
     ]
    }
   ],
   "source": [
    "model = XGBClassifier(n_estimators=180, learning_rate=0.026, max_depth=8, scale_pos_weight=scale_weight,\n",
    "                      use_label_encoder=False,\n",
    "                      objective='binary:logistic')\n",
    "model.fit(X_train, y_train)\n",
    "model_scoring(model, y_train, X_train, y_test, X_test)"
   ]
  },
  {
   "cell_type": "markdown",
   "metadata": {},
   "source": [
    "### Searching for optimal parameter combination (XGBoost)"
   ]
  },
  {
   "cell_type": "code",
   "execution_count": 104,
   "metadata": {},
   "outputs": [
    {
     "name": "stderr",
     "output_type": "stream",
     "text": [
      "c:\\users\\antos\\appdata\\local\\programs\\python\\python38\\lib\\site-packages\\xgboost\\sklearn.py:888: UserWarning: The use of label encoder in XGBClassifier is deprecated and will be removed in a future release. To remove this warning, do the following: 1) Pass option use_label_encoder=False when constructing XGBClassifier object; and 2) Encode your labels (y) as integers starting with 0, i.e. 0, 1, 2, ..., [num_class - 1].\n",
      "  warnings.warn(label_encoder_deprecation_msg, UserWarning)\n"
     ]
    },
    {
     "name": "stdout",
     "output_type": "stream",
     "text": [
      "[02:26:44] WARNING: C:/Users/Administrator/workspace/xgboost-win64_release_1.3.0/src/learner.cc:1061: Starting in XGBoost 1.3.0, the default evaluation metric used with the objective 'binary:logistic' was changed from 'error' to 'logloss'. Explicitly set eval_metric if you'd like to restore the old behavior.\n"
     ]
    },
    {
     "data": {
      "text/plain": [
       "RandomizedSearchCV(cv=RepeatedStratifiedKFold(n_repeats=5, n_splits=5, random_state=None),\n",
       "                   estimator=XGBClassifier(base_score=None, booster=None,\n",
       "                                           colsample_bylevel=None,\n",
       "                                           colsample_bynode=None,\n",
       "                                           colsample_bytree=None, gamma=None,\n",
       "                                           gpu_id=None, importance_type='gain',\n",
       "                                           interaction_constraints=None,\n",
       "                                           learning_rate=None,\n",
       "                                           max_delta_step=None, max_depth=None,\n",
       "                                           min_child_wei...\n",
       "                                           verbosity=None),\n",
       "                   n_iter=100, n_jobs=-1,\n",
       "                   param_distributions={'gamma': <scipy.stats._distn_infrastructure.rv_frozen object at 0x000001F7BE456C10>,\n",
       "                                        'learning_rate': <scipy.stats._distn_infrastructure.rv_frozen object at 0x000001F7BE456F40>,\n",
       "                                        'max_depth': <scipy.stats._distn_infrastructure.rv_frozen object at 0x000001F7A5E38040>,\n",
       "                                        'n_estimators': [180]},\n",
       "                   scoring='roc_auc')"
      ]
     },
     "execution_count": 104,
     "metadata": {},
     "output_type": "execute_result"
    }
   ],
   "source": [
    "model = XGBClassifier(objective='binary:logistic', scale_pos_weight=scale_weight)\n",
    "param_grid = {\"n_estimators\": [180], \n",
    "              \"learning_rate\": ss.uniform(0.01, 0.028),\n",
    "              \"max_depth\": ss.randint(7, 9),\n",
    "              \"gamma\": ss.uniform(0, 0.05)}\n",
    "\n",
    "optimizer = RandomizedSearchCV(model, param_grid, \n",
    "                               n_iter=100, \n",
    "                               cv=skf, \n",
    "                               n_jobs=-1,\n",
    "                               scoring='roc_auc')\n",
    "optimizer.fit(X_train, y_train)"
   ]
  },
  {
   "cell_type": "code",
   "execution_count": 105,
   "metadata": {},
   "outputs": [
    {
     "data": {
      "text/plain": [
       "{'gamma': 0.04966376744888,\n",
       " 'learning_rate': 0.03043095178371477,\n",
       " 'max_depth': 7,\n",
       " 'n_estimators': 180}"
      ]
     },
     "execution_count": 105,
     "metadata": {},
     "output_type": "execute_result"
    }
   ],
   "source": [
    "optimizer.best_params_"
   ]
  },
  {
   "cell_type": "code",
   "execution_count": 10,
   "metadata": {},
   "outputs": [],
   "source": [
    "with open('optimizer_xgboost.pkl', 'rb') as f:\n",
    "    optimizer = pickle.load(f)"
   ]
  },
  {
   "cell_type": "code",
   "execution_count": 14,
   "metadata": {},
   "outputs": [
    {
     "name": "stdout",
     "output_type": "stream",
     "text": [
      "CV score on training set: 0.8405\n",
      "Train ROC_AUC Score: 0.9316\n",
      "Test ROC_AUC Score: 0.8654\n"
     ]
    }
   ],
   "source": [
    "model_scoring(optimizer.best_estimator_, y_train, X_train, y_test, X_test)"
   ]
  },
  {
   "cell_type": "markdown",
   "metadata": {},
   "source": [
    "Optimized parameters turn out to perform similar to 'blind shot'.<br>"
   ]
  },
  {
   "cell_type": "code",
   "execution_count": 238,
   "metadata": {},
   "outputs": [],
   "source": [
    "gamma_opt = []\n",
    "learning_rate_opt = []\n",
    "max_depth_opt = []\n",
    "for n in optimizer.cv_results_['params']:\n",
    "    gamma_opt.append(n['gamma'])\n",
    "    learning_rate_opt.append(n['learning_rate'])\n",
    "    max_depth_opt.append(n['max_depth'])\n",
    "\n",
    "depth_7 = np.where(np.array(max_depth_opt)==7)\n",
    "depth_8 = np.where(np.array(max_depth_opt)==8)\n",
    "\n",
    "gamma_opt = np.array(gamma_opt)\n",
    "learning_rate_opt = np.array(learning_rate_opt)\n",
    "score_opt = optimizer.cv_results_['mean_test_score']"
   ]
  },
  {
   "cell_type": "code",
   "execution_count": 250,
   "metadata": {},
   "outputs": [
    {
     "data": {
      "image/png": "[encoded data removed]",
      "text/plain": [
       "<Figure size 1440x432 with 2 Axes>"
      ]
     },
     "metadata": {
      "needs_background": "light"
     },
     "output_type": "display_data"
    }
   ],
   "source": [
    "fig, axs = plt.subplots(1, 2, figsize=(20,6))\n",
    "\n",
    "axs[0] = sns.scatterplot(x=learning_rate_opt[depth_7], y=score_opt[depth_7], ax=axs[0])\n",
    "axs[0] = sns.scatterplot(x=learning_rate_opt[depth_8], y=score_opt[depth_8], ax=axs[0])\n",
    "axs[0].legend(['max_depth = 7', 'max_depth = 8'])\n",
    "axs[0].set_xlabel('learning_rate')\n",
    "axs[0].set_ylabel('CV score')\n",
    "axs[0].title.set_text('learning_rate influence on CV scoring')\n",
    "\n",
    "axs[1] = sns.scatterplot(x=gamma_opt[depth_7], y=score_opt[depth_7], size=learning_rate_opt[depth_7], sizes=(10, 250), alpha=.9, ax=axs[1], legend=False)\n",
    "axs[1] = sns.scatterplot(x=gamma_opt[depth_8], y=score_opt[depth_8], size=learning_rate_opt[depth_8], sizes=(10, 250), alpha=.9, ax=axs[1], legend=False)\n",
    "axs[1].legend(['max_depth = 7', 'max_depth = 8'])\n",
    "axs[1].set_xlabel('gamma')\n",
    "axs[1].set_ylabel('CV score')\n",
    "axs[1].title.set_text('gamma influence on CV scoring (point size=learning_rate)')\n",
    "\n",
    "fig.suptitle('Optimized parameters inspection', fontsize=20) \n",
    "plt.show()"
   ]
  },
  {
   "cell_type": "markdown",
   "metadata": {},
   "source": [
    "Unlike gamma's, learning_rate parameter's influence on performence is very noticable."
   ]
  },
  {
   "cell_type": "markdown",
   "metadata": {},
   "source": [
    "# Conclusions\n",
    "RFC performs really good on this dataset and so do XGBoost. Further optimization of parameters woud be a good path for even better performance, especially for XGBoost. Because of multitude of hyperparameters, another search strategy could be utilized for greater efficiency (possibly Hyperopt optimization would satisfy the needs).\n",
    "\n",
    "Both models score above 86% roc_auc for test set (for reproducibility with constant split seed)."
   ]
  },
  {
   "cell_type": "markdown",
   "metadata": {},
   "source": [
    "### TODO:\n",
    "Reguralization + simplification of models"
   ]
  }
 ],
 "metadata": {
  "kernelspec": {
   "display_name": "Python 3",
   "language": "python",
   "name": "python3"
  },
  "language_info": {
   "codemirror_mode": {
    "name": "ipython",
    "version": 3
   },
   "file_extension": ".py",
   "mimetype": "text/x-python",
   "name": "python",
   "nbconvert_exporter": "python",
   "pygments_lexer": "ipython3",
   "version": "3.8.3"
  }
 },
 "nbformat": 4,
 "nbformat_minor": 4
}

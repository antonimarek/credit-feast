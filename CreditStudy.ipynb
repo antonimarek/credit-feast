{
 "cells": [
  {
   "cell_type": "markdown",
   "metadata": {},
   "source": [
    "# Introduction\n",
    "This study explores the dataset made available for the competition<br>\n",
    "**Hackathon 3.x - Predict customer worth for Happy Customer Bank**<br>\n",
    "organised by _Analytics Vidhya_ in 2015.<br>\n",
    "\n",
    "For more information follow the link below:<br>\n",
    "https://discuss.analyticsvidhya.com/t/hackathon-3-x-predict-customer-worth-for-happy-customer-bank/3802\n",
    "\n",
    "### **Problem** _(as described in challange)_\n",
    "\n",
    "''Digital arms of banks today face challenges with lead conversion, they source leads through mediums like search, display, email campaigns and via affiliate partners. Here Happy Customer Bank faces same challenge of low conversion ratio. They have given a problem to identify the customers segments having higher conversion ratio for a specific loan product so that they can specifically target these customers, here they have provided a partial data set for salaried customers only from the last 3 months. They also capture basic details about customers like gender, DOB, existing EMI, employer Name, Loan Amount Required, Monthly Income, City, Interaction data and many others. Let’s look at the process at Happy Customer Bank.''\n",
    "\n",
    "### **Goal**\n",
    "\n",
    "Predict the probability of disbursal for test data set."
   ]
  },
  {
   "cell_type": "markdown",
   "metadata": {},
   "source": [
    "## Table of Contents\n",
    "\n",
    "1. **[Data preprocessing](#first-bullet)**\n",
    "2. **[Modelling](#second-bullet)**"
   ]
  },
  {
   "cell_type": "markdown",
   "metadata": {},
   "source": [
    "### Importing libraries"
   ]
  },
  {
   "cell_type": "code",
   "execution_count": 1,
   "metadata": {},
   "outputs": [],
   "source": [
    "import pandas as pd\n",
    "import numpy as np\n",
    "import matplotlib.pyplot as plt\n",
    "import wikipedia\n",
    "import re\n",
    "from bs4 import BeautifulSoup\n",
    "import seaborn as sns\n",
    "import pickle"
   ]
  },
  {
   "cell_type": "markdown",
   "metadata": {},
   "source": [
    "## Loading the data"
   ]
  },
  {
   "cell_type": "code",
   "execution_count": 2,
   "metadata": {},
   "outputs": [
    {
     "data": {
      "text/html": [
       "<div>\n",
       "<style scoped>\n",
       "    .dataframe tbody tr th:only-of-type {\n",
       "        vertical-align: middle;\n",
       "    }\n",
       "\n",
       "    .dataframe tbody tr th {\n",
       "        vertical-align: top;\n",
       "    }\n",
       "\n",
       "    .dataframe thead th {\n",
       "        text-align: right;\n",
       "    }\n",
       "</style>\n",
       "<table border=\"1\" class=\"dataframe\">\n",
       "  <thead>\n",
       "    <tr style=\"text-align: right;\">\n",
       "      <th></th>\n",
       "      <th>ID</th>\n",
       "      <th>Gender</th>\n",
       "      <th>City</th>\n",
       "      <th>Monthly_Income</th>\n",
       "      <th>DOB</th>\n",
       "      <th>Lead_Creation_Date</th>\n",
       "      <th>Loan_Amount_Applied</th>\n",
       "      <th>Loan_Tenure_Applied</th>\n",
       "      <th>Existing_EMI</th>\n",
       "      <th>Employer_Name</th>\n",
       "      <th>...</th>\n",
       "      <th>Interest_Rate</th>\n",
       "      <th>Processing_Fee</th>\n",
       "      <th>EMI_Loan_Submitted</th>\n",
       "      <th>Filled_Form</th>\n",
       "      <th>Device_Type</th>\n",
       "      <th>Var2</th>\n",
       "      <th>Source</th>\n",
       "      <th>Var4</th>\n",
       "      <th>LoggedIn</th>\n",
       "      <th>Disbursed</th>\n",
       "    </tr>\n",
       "  </thead>\n",
       "  <tbody>\n",
       "    <tr>\n",
       "      <th>0</th>\n",
       "      <td>ID000002C20</td>\n",
       "      <td>Female</td>\n",
       "      <td>Delhi</td>\n",
       "      <td>20000</td>\n",
       "      <td>23-May-78</td>\n",
       "      <td>15-May-15</td>\n",
       "      <td>300000.0</td>\n",
       "      <td>5.0</td>\n",
       "      <td>0.0</td>\n",
       "      <td>CYBOSOL</td>\n",
       "      <td>...</td>\n",
       "      <td>NaN</td>\n",
       "      <td>NaN</td>\n",
       "      <td>NaN</td>\n",
       "      <td>N</td>\n",
       "      <td>Web-browser</td>\n",
       "      <td>G</td>\n",
       "      <td>S122</td>\n",
       "      <td>1</td>\n",
       "      <td>0</td>\n",
       "      <td>0</td>\n",
       "    </tr>\n",
       "    <tr>\n",
       "      <th>1</th>\n",
       "      <td>ID000004E40</td>\n",
       "      <td>Male</td>\n",
       "      <td>Mumbai</td>\n",
       "      <td>35000</td>\n",
       "      <td>07-Oct-85</td>\n",
       "      <td>04-May-15</td>\n",
       "      <td>200000.0</td>\n",
       "      <td>2.0</td>\n",
       "      <td>0.0</td>\n",
       "      <td>TATA CONSULTANCY SERVICES LTD (TCS)</td>\n",
       "      <td>...</td>\n",
       "      <td>13.25</td>\n",
       "      <td>NaN</td>\n",
       "      <td>6762.9</td>\n",
       "      <td>N</td>\n",
       "      <td>Web-browser</td>\n",
       "      <td>G</td>\n",
       "      <td>S122</td>\n",
       "      <td>3</td>\n",
       "      <td>0</td>\n",
       "      <td>0</td>\n",
       "    </tr>\n",
       "    <tr>\n",
       "      <th>2</th>\n",
       "      <td>ID000007H20</td>\n",
       "      <td>Male</td>\n",
       "      <td>Panchkula</td>\n",
       "      <td>22500</td>\n",
       "      <td>10-Oct-81</td>\n",
       "      <td>19-May-15</td>\n",
       "      <td>600000.0</td>\n",
       "      <td>4.0</td>\n",
       "      <td>0.0</td>\n",
       "      <td>ALCHEMIST HOSPITALS LTD</td>\n",
       "      <td>...</td>\n",
       "      <td>NaN</td>\n",
       "      <td>NaN</td>\n",
       "      <td>NaN</td>\n",
       "      <td>N</td>\n",
       "      <td>Web-browser</td>\n",
       "      <td>B</td>\n",
       "      <td>S143</td>\n",
       "      <td>1</td>\n",
       "      <td>0</td>\n",
       "      <td>0</td>\n",
       "    </tr>\n",
       "    <tr>\n",
       "      <th>3</th>\n",
       "      <td>ID000008I30</td>\n",
       "      <td>Male</td>\n",
       "      <td>Saharsa</td>\n",
       "      <td>35000</td>\n",
       "      <td>30-Nov-87</td>\n",
       "      <td>09-May-15</td>\n",
       "      <td>1000000.0</td>\n",
       "      <td>5.0</td>\n",
       "      <td>0.0</td>\n",
       "      <td>BIHAR GOVERNMENT</td>\n",
       "      <td>...</td>\n",
       "      <td>NaN</td>\n",
       "      <td>NaN</td>\n",
       "      <td>NaN</td>\n",
       "      <td>N</td>\n",
       "      <td>Web-browser</td>\n",
       "      <td>B</td>\n",
       "      <td>S143</td>\n",
       "      <td>3</td>\n",
       "      <td>0</td>\n",
       "      <td>0</td>\n",
       "    </tr>\n",
       "    <tr>\n",
       "      <th>4</th>\n",
       "      <td>ID000009J40</td>\n",
       "      <td>Male</td>\n",
       "      <td>Bengaluru</td>\n",
       "      <td>100000</td>\n",
       "      <td>17-Feb-84</td>\n",
       "      <td>20-May-15</td>\n",
       "      <td>500000.0</td>\n",
       "      <td>2.0</td>\n",
       "      <td>25000.0</td>\n",
       "      <td>GLOBAL EDGE SOFTWARE</td>\n",
       "      <td>...</td>\n",
       "      <td>NaN</td>\n",
       "      <td>NaN</td>\n",
       "      <td>NaN</td>\n",
       "      <td>N</td>\n",
       "      <td>Web-browser</td>\n",
       "      <td>B</td>\n",
       "      <td>S134</td>\n",
       "      <td>3</td>\n",
       "      <td>1</td>\n",
       "      <td>0</td>\n",
       "    </tr>\n",
       "  </tbody>\n",
       "</table>\n",
       "<p>5 rows × 26 columns</p>\n",
       "</div>"
      ],
      "text/plain": [
       "            ID  Gender       City  Monthly_Income        DOB  \\\n",
       "0  ID000002C20  Female      Delhi           20000  23-May-78   \n",
       "1  ID000004E40    Male     Mumbai           35000  07-Oct-85   \n",
       "2  ID000007H20    Male  Panchkula           22500  10-Oct-81   \n",
       "3  ID000008I30    Male    Saharsa           35000  30-Nov-87   \n",
       "4  ID000009J40    Male  Bengaluru          100000  17-Feb-84   \n",
       "\n",
       "  Lead_Creation_Date  Loan_Amount_Applied  Loan_Tenure_Applied  Existing_EMI  \\\n",
       "0          15-May-15             300000.0                  5.0           0.0   \n",
       "1          04-May-15             200000.0                  2.0           0.0   \n",
       "2          19-May-15             600000.0                  4.0           0.0   \n",
       "3          09-May-15            1000000.0                  5.0           0.0   \n",
       "4          20-May-15             500000.0                  2.0       25000.0   \n",
       "\n",
       "                         Employer_Name  ... Interest_Rate Processing_Fee  \\\n",
       "0                              CYBOSOL  ...           NaN            NaN   \n",
       "1  TATA CONSULTANCY SERVICES LTD (TCS)  ...         13.25            NaN   \n",
       "2              ALCHEMIST HOSPITALS LTD  ...           NaN            NaN   \n",
       "3                     BIHAR GOVERNMENT  ...           NaN            NaN   \n",
       "4                 GLOBAL EDGE SOFTWARE  ...           NaN            NaN   \n",
       "\n",
       "   EMI_Loan_Submitted Filled_Form  Device_Type  Var2  Source  Var4  LoggedIn  \\\n",
       "0                 NaN           N  Web-browser     G    S122     1         0   \n",
       "1              6762.9           N  Web-browser     G    S122     3         0   \n",
       "2                 NaN           N  Web-browser     B    S143     1         0   \n",
       "3                 NaN           N  Web-browser     B    S143     3         0   \n",
       "4                 NaN           N  Web-browser     B    S134     3         1   \n",
       "\n",
       "  Disbursed  \n",
       "0         0  \n",
       "1         0  \n",
       "2         0  \n",
       "3         0  \n",
       "4         0  \n",
       "\n",
       "[5 rows x 26 columns]"
      ]
     },
     "execution_count": 2,
     "metadata": {},
     "output_type": "execute_result"
    }
   ],
   "source": [
    "FILE = r'Data/Train_nyOWmfK.csv'\n",
    "data = pd.read_csv(FILE, encoding='latin1')\n",
    "data.head()"
   ]
  },
  {
   "cell_type": "code",
   "execution_count": 3,
   "metadata": {},
   "outputs": [],
   "source": [
    "X, y = data.drop([\"Disbursed\"], axis=1), data.Disbursed"
   ]
  },
  {
   "cell_type": "code",
   "execution_count": 4,
   "metadata": {},
   "outputs": [],
   "source": [
    "from sklearn.model_selection import train_test_split\n",
    "X_train, X_test, y_train, y_test = train_test_split(X, y, test_size=.1, random_state=20, stratify=y)"
   ]
  },
  {
   "cell_type": "markdown",
   "metadata": {},
   "source": [
    "# 1. Data preprocessing <a class=\"anchor\" id=\"first-bullet\"></a>"
   ]
  },
  {
   "cell_type": "markdown",
   "metadata": {},
   "source": [
    "## Creating dictionaries"
   ]
  },
  {
   "cell_type": "markdown",
   "metadata": {},
   "source": [
    "### Wikipedia scraping"
   ]
  },
  {
   "cell_type": "code",
   "execution_count": 5,
   "metadata": {},
   "outputs": [],
   "source": [
    "def wiki_table_scraper(title, table_num=0, header=True):\n",
    "    wikipedia.set_lang(\"en\")\n",
    "    page = wikipedia.page(title=title).html()\n",
    "    soup = BeautifulSoup(page, 'html')\n",
    "    table = soup.find_all('table', {'class':\"wikitable sortable\"})[table_num]\n",
    "    head = False\n",
    "    if header:\n",
    "        trs = table.find_all('tr')[1:]\n",
    "        head = [line.text.strip() for line in table.find_all('tr')[0].find_all('th')]\n",
    "    else:\n",
    "        trs = table.find_all('tr')\n",
    "    \n",
    "    table_list = [[n.text.strip() for n in line.find_all('td')] for line in trs]\n",
    "    result = pd.DataFrame(data=table_list, columns=head)\n",
    "    return result"
   ]
  },
  {
   "cell_type": "markdown",
   "metadata": {},
   "source": [
    "#### Assigning state to particular city\n",
    "**1st approach:** _Retrieving information from the Indian population table_"
   ]
  },
  {
   "cell_type": "code",
   "execution_count": 6,
   "metadata": {},
   "outputs": [],
   "source": [
    "def match_state():\n",
    "    city_state = wiki_table_scraper('List_of_cities_in_India_by_population')\n",
    "    city_state.City = city_state.City.apply(lambda x: re.search(r'[\\w]+', x).group())\n",
    "    city_state.iloc[:,4] = city_state.iloc[:,4].apply(lambda x: re.search(r'[\\w ]+', x).group())\n",
    "    state_dict = city_state.set_index(city_state.iloc[:,1]).iloc[:,4].to_dict()\n",
    "    return state_dict"
   ]
  },
  {
   "cell_type": "markdown",
   "metadata": {},
   "source": [
    "**2nd approach:** _Search for specific queries_  >>>  _(Filling in the missing information for cities not included in the table.)_"
   ]
  },
  {
   "cell_type": "code",
   "execution_count": 7,
   "metadata": {},
   "outputs": [],
   "source": [
    "def unmatched(df, match_dict, key):\n",
    "    non_match = df[~df[key].isin(match_dict.keys())][key].value_counts().index\n",
    "    return non_match"
   ]
  },
  {
   "cell_type": "code",
   "execution_count": 8,
   "metadata": {},
   "outputs": [],
   "source": [
    "def match_state_complex(state_names, unmatched, a_sugg=False):    \n",
    "    matching = {}\n",
    "    for name in unmatched:\n",
    "        try:\n",
    "            page_key = wikipedia.search(f'{name} india')[0]\n",
    "            page_summary = wikipedia.page(page_key, auto_suggest=a_sugg).summary\n",
    "            matching[name] = page_summary\n",
    "        except:\n",
    "            pass\n",
    "    match_df = pd.DataFrame.from_dict(matching, orient='index')\n",
    "    match_df.index\n",
    "    \n",
    "    matching_states = {}\n",
    "    for ix in match_df.index:\n",
    "        try:\n",
    "            for word in (match_df.loc[ix, 0]).split():\n",
    "                if word in state_names:\n",
    "                    correct_state = word\n",
    "                    break\n",
    "            matching_states[ix] = correct_state\n",
    "        except:\n",
    "            pass\n",
    "    return matching_states"
   ]
  },
  {
   "cell_type": "markdown",
   "metadata": {},
   "source": [
    "#### Assigning GDPs to states"
   ]
  },
  {
   "cell_type": "code",
   "execution_count": 9,
   "metadata": {},
   "outputs": [],
   "source": [
    "def match_state_GDP():\n",
    "    gdpS = wiki_table_scraper('List_of_Indian_states_and_union_territories_by_GDP')\n",
    "    gdpS.iloc[:,2] = gdpS.iloc[:,2].apply(lambda x: re.search(r'\\d+.\\d+ la', x).group()[:-3]).map(float)\n",
    "    state_to_gdp = gdpS.set_index(gdpS.iloc[:,1]).iloc[:,2].to_dict()\n",
    "    return state_to_gdp"
   ]
  },
  {
   "cell_type": "markdown",
   "metadata": {},
   "source": [
    "#### Assigning population count to cities"
   ]
  },
  {
   "cell_type": "code",
   "execution_count": 10,
   "metadata": {},
   "outputs": [],
   "source": [
    "def match_population():\n",
    "    city_table = wiki_table_scraper('List_of_cities_in_India_by_population')\n",
    "    city_table.City = city_table.City.apply(lambda x: re.search(r'[\\w]+', x).group())\n",
    "    city_table.iloc[:,2] = city_table.iloc[:,2].apply(lambda x: x.replace(',','')).map(int)\n",
    "    city_pop_dict = city_table.set_index(city_table.iloc[:,1]).iloc[:,2].to_dict()\n",
    "    return city_pop_dict"
   ]
  },
  {
   "cell_type": "code",
   "execution_count": 11,
   "metadata": {},
   "outputs": [],
   "source": [
    "def create_dictionaries(dataframe):\n",
    "#     city_to_state = match_state()\n",
    "#     states = set(city_to_state.values()) # set of India's states for further use\n",
    "\n",
    "#     non_matched = unmatched(dataframe, city_to_state, 'City')\n",
    "#     city_to_state.update(match_state_complex(states, non_matched))\n",
    "    \n",
    "    #------------------------------------------------\n",
    "    # with open('city_to_state.pkl', 'wb') as f:\n",
    "    #         pickle.dump(city_to_state, f)\n",
    "\n",
    "    with open('city_to_state.pkl', 'rb') as f:\n",
    "            city_to_state = pickle.load(f)\n",
    "    #------------------------------------------------\n",
    "    states = set(city_to_state.values())\n",
    "    \n",
    "    non_matched = unmatched(dataframe, city_to_state, 'City')\n",
    "    city_to_state.update(match_state_complex(states, non_matched, a_sugg=True))\n",
    "\n",
    "    states_not_matched = unmatched(dataframe, city_to_state, 'City')\n",
    "    \n",
    "    GDP_dict = match_state_GDP()\n",
    "    city_population = match_population()\n",
    "    \n",
    "    # Creating City Rank with first 20 cities sorted by most frequent occurrence in the data\n",
    "    city_rank_keys = dataframe.City.value_counts()[:20].keys()\n",
    "    \n",
    "    # Creating Employer Rank with first 15 Employers sorted by most frequent occurrence in the data\n",
    "    employer_rank_keys = dataframe.Employer_Name[dataframe.Employer_Name!='0'].value_counts()[:15].keys()\n",
    "    \n",
    "    return city_to_state, GDP_dict, city_population, city_rank_keys, employer_rank_keys, states_not_matched"
   ]
  },
  {
   "cell_type": "markdown",
   "metadata": {},
   "source": [
    "#### Monthly Income\n",
    "Cutting part of the outliers with substitution to the maximum value _100 000_ (this value is still over upper IQR bound)"
   ]
  },
  {
   "cell_type": "code",
   "execution_count": 12,
   "metadata": {},
   "outputs": [
    {
     "data": {
      "image/png": "[encoded data removed]",
      "text/plain": [
       "<Figure size 1080x216 with 2 Axes>"
      ]
     },
     "metadata": {
      "needs_background": "light"
     },
     "output_type": "display_data"
    }
   ],
   "source": [
    "fig, axs = plt.subplots(1, 2, figsize=(15,3))\n",
    "\n",
    "sns.boxplot(x=X_train.Monthly_Income, ax=axs[0])\n",
    "axs[0].title.set_text(\"Original Data\")\n",
    "sns.boxplot(x=X_train.Monthly_Income.where(X_train.Monthly_Income < 100000, other=100000), ax=axs[1])\n",
    "axs[1].title.set_text(\"Outliers cut-off\")\n",
    "\n",
    "plt.show()"
   ]
  },
  {
   "cell_type": "code",
   "execution_count": 13,
   "metadata": {},
   "outputs": [],
   "source": [
    "# dictionaries = create_dictionaries(X_train)\n",
    "\n",
    "# with open('dictionaries.pkl', 'wb') as f:\n",
    "#     pickle.dump(dictionaries, f)\n",
    "\n",
    "with open('dictionaries.pkl', 'rb') as f:\n",
    "    dictionaries = pickle.load(f)\n",
    "        \n",
    "to_state, GDPs, population, city_rank, employer_rank_keys, states_not_matched = dictionaries"
   ]
  },
  {
   "cell_type": "markdown",
   "metadata": {},
   "source": [
    "There are a few cities with no state assigned - for the purpose of simplicity they will be ignored in this study:"
   ]
  },
  {
   "cell_type": "code",
   "execution_count": 14,
   "metadata": {},
   "outputs": [
    {
     "name": "stdout",
     "output_type": "stream",
     "text": [
      "AHMEDB                  9\n",
      "Janigir - Champa        7\n",
      "Proddattur              5\n",
      "Pontashaib              5\n",
      "Kamrup Metropolitian    3\n",
      "DHANGARDHA              3\n",
      "Banaskhantha            3\n",
      "SURENDERNAGAR           3\n",
      "Sonepur                 2\n",
      "SOMNATH JUNAGADHA       1\n",
      "Chinnamiram             1\n",
      "Surendra Nagar          1\n",
      "Name: City, dtype: int64\n",
      "\n",
      "Missing 43 values.\n"
     ]
    }
   ],
   "source": [
    "print(X_train[X_train.City.isin(states_not_matched)].City.value_counts())\n",
    "print('\\nMissing', X_train[X_train.City.isin(states_not_matched)].City.count(), 'values.')"
   ]
  },
  {
   "cell_type": "code",
   "execution_count": 15,
   "metadata": {},
   "outputs": [],
   "source": [
    "from sklearn.base import BaseEstimator, TransformerMixin\n",
    "\n",
    "class DataFrameSelector(BaseEstimator, TransformerMixin):\n",
    "    def __init__(self, attribute_names):\n",
    "        self.attribute_names = attribute_names\n",
    "    def fit(self, X, y=None):\n",
    "        return self\n",
    "    def transform(self, X, y=None):\n",
    "        return X[self.attribute_names]\n",
    "    def get_feature_names(self):\n",
    "        return self.attribute_names"
   ]
  },
  {
   "cell_type": "code",
   "execution_count": 16,
   "metadata": {},
   "outputs": [],
   "source": [
    "from sklearn.pipeline import Pipeline\n",
    "from sklearn.impute import SimpleImputer, KNNImputer\n",
    "from sklearn.preprocessing import OneHotEncoder, MinMaxScaler, StandardScaler"
   ]
  },
  {
   "cell_type": "code",
   "execution_count": 17,
   "metadata": {},
   "outputs": [],
   "source": [
    "class CatDictionaries(BaseEstimator, TransformerMixin):\n",
    "    def __init__(self, state, city_rank, emp_rank):\n",
    "        self.state = state\n",
    "        self.city_rank = city_rank\n",
    "        self.emp_rank = emp_rank\n",
    "    def fit(self, X, y=None):\n",
    "        return self\n",
    "    def transform(self, X, y=None):\n",
    "        self.feature_columns = ['State', 'City_rank', 'Employer_rank']\n",
    "        df = pd.DataFrame(columns=self.feature_columns)\n",
    "        df.State = X.City.map(self.state)\n",
    "        df.City_rank = X.City.where(X.City.isin(self.city_rank), other='other')\n",
    "        \n",
    "        df.Employer_rank = X.Employer_Name.where(X.Employer_Name.isin(self.emp_rank), other='other')\n",
    "        return df\n",
    "    def get_feature_names(self):\n",
    "        return self.feature_columns\n",
    "    \n",
    "class NumDictionaries(BaseEstimator, TransformerMixin):\n",
    "    def __init__(self, state, gpd, population):\n",
    "        self.state = state\n",
    "        self.gpd = gpd\n",
    "        self.population = population\n",
    "    def fit(self, X, y=None):\n",
    "        return self\n",
    "    def transform(self, X, y=None):\n",
    "        self.feature_columns = ['StateGDP','City_population']\n",
    "        df = pd.DataFrame(columns=self.feature_columns)\n",
    "        df.StateGDP = X.City.map(self.state).map(self.gpd).map(float)\n",
    "        df.City_population = X.City.map(self.population)\n",
    "        return df\n",
    "    def get_feature_names(self):\n",
    "        return self.feature_columns"
   ]
  },
  {
   "cell_type": "markdown",
   "metadata": {},
   "source": [
    "#### Dates processing"
   ]
  },
  {
   "cell_type": "code",
   "execution_count": 18,
   "metadata": {},
   "outputs": [],
   "source": [
    "class DateFix(BaseEstimator, TransformerMixin):\n",
    "    def fit(self, X, y=None):\n",
    "        return self\n",
    "    def transform(self, X, y=None):\n",
    "        self.feature_columns = ['Age_at_lead']\n",
    "        df = pd.DataFrame(columns=self.feature_columns)\n",
    "        df.Age_at_lead = pd.to_datetime(X['Lead_Creation_Date'], format='%d-%b-%y').dt.year - pd.to_datetime(X['DOB'], format='%d-%b-%y').dt.year\n",
    "        df.Age_at_lead = df['Age_at_lead'].where(df['Age_at_lead'] > 0, df['Age_at_lead'] + 100)\n",
    "        df.Age_at_lead = np.log(1+df.Age_at_lead)\n",
    "        return df\n",
    "    def get_feature_names(self):\n",
    "        return self.feature_columns"
   ]
  },
  {
   "cell_type": "code",
   "execution_count": 19,
   "metadata": {},
   "outputs": [],
   "source": [
    "class Money(BaseEstimator, TransformerMixin):\n",
    "    def __init__(self):\n",
    "        self.imputer = None\n",
    "    def fit(self, X, y=None):\n",
    "        for_impute = X[['Monthly_Income', 'Loan_Amount_Submitted', 'Loan_Tenure_Submitted', 'Interest_Rate', 'Processing_Fee']]\n",
    "        imputer = KNNImputer(n_neighbors=2)\n",
    "        self.imputer = imputer.fit(for_impute.dropna(how='any').sample(n=500))\n",
    "        return self\n",
    "    def transform(self, X, y=None):\n",
    "        self.feature_columns = ['Monthly_Income', 'Loan_Amount_Submitted', 'Loan_Tenure_Submitted', 'Interest_Rate', \n",
    "                                'Processing_Fee', 'EMI_sub_calc', 'EMI_Income_tot_ratio', 'EMI_sub_Income_ratio']\n",
    "        df = pd.DataFrame(columns=self.feature_columns) #, 'Loan_Amount_Applied', 'Loan_Tenure_Applied'])\n",
    "        df.Monthly_Income = X.Monthly_Income.where(X.Monthly_Income < 100000, other=100000)\n",
    "        for_impute = X[['Monthly_Income', 'Loan_Amount_Submitted', 'Loan_Tenure_Submitted', 'Interest_Rate', 'Processing_Fee']]\n",
    "        imputed = self.imputer.transform(for_impute)\n",
    "        df.Loan_Amount_Submitted = pd.DataFrame(imputed, index=for_impute.index)[1]\n",
    "        df.Loan_Tenure_Submitted = pd.DataFrame(imputed, index=for_impute.index)[2]\n",
    "        df.Interest_Rate = pd.DataFrame(imputed, index=for_impute.index)[3]\n",
    "        df.Processing_Fee = pd.DataFrame(imputed, index=for_impute.index)[4]\n",
    "       \n",
    "        # creating additional columns: EMI calculated and EMI/Income ratios\n",
    "        EMI_P = df.Loan_Amount_Submitted\n",
    "        EMI_R = df.Interest_Rate/12/100\n",
    "        EMI_N = df.Loan_Tenure_Submitted*12\n",
    "\n",
    "        df.EMI_sub_calc = (EMI_P * EMI_R * (1 + EMI_R)**EMI_N) / ((1 + EMI_R)**EMI_N - 1)\n",
    "        df.EMI_Income_tot_ratio = (X.Existing_EMI + df.EMI_sub_calc) / X.Monthly_Income\n",
    "        df.EMI_sub_Income_ratio = df.EMI_sub_calc / X.Monthly_Income\n",
    "        \n",
    "        df.EMI_sub_calc = np.log(1+df.EMI_sub_calc)\n",
    "        df.EMI_Income_tot_ratio = df.EMI_Income_tot_ratio.where(df.EMI_Income_tot_ratio < 1, other=1)\n",
    "        df.EMI_Income_tot_ratio = np.log(1+df.EMI_Income_tot_ratio)\n",
    "        df.EMI_sub_Income_ratio = df.EMI_sub_Income_ratio.where(df.EMI_sub_Income_ratio < 1, other=1)\n",
    "#         df.EMI_sub_Income_ratio = np.log(1+df.EMI_sub_Income_ratio)\n",
    "        df.Loan_Amount_Submitted = np.log(1+df.Loan_Amount_Submitted)\n",
    "        df.Processing_Fee = np.log(1+df.Processing_Fee)\n",
    "        \n",
    "#         df.Loan_Amount_Applied = np.log(1+X.Loan_Amount_Applied)\n",
    "#         df.Loan_Tenure_Applied = X.Loan_Tenure_Applied\n",
    "        return df\n",
    "    def get_feature_names(self):\n",
    "        return self.feature_columns"
   ]
  },
  {
   "cell_type": "code",
   "execution_count": 20,
   "metadata": {},
   "outputs": [],
   "source": [
    "cat_dict_pipeline = Pipeline([\n",
    "        (\"selector\", DataFrameSelector(['City','Employer_Name'])),\n",
    "        (\"dictionary\", CatDictionaries(to_state, city_rank, employer_rank_keys)),\n",
    "        (\"imputer\", SimpleImputer(strategy=\"most_frequent\")),\n",
    "        (\"cat_encoder\", OneHotEncoder(sparse=False, handle_unknown='ignore'))\n",
    "    ])\n",
    "num_dict_pipeline = Pipeline([\n",
    "        (\"selector\", DataFrameSelector(['City'])),\n",
    "        (\"dictionary\", NumDictionaries(to_state, GDPs, population)),\n",
    "        (\"imputer\", SimpleImputer(strategy=\"median\")),\n",
    "        (\"scaler\", MinMaxScaler())\n",
    "    ])\n",
    "dates_pipeline = Pipeline([\n",
    "        (\"selector\", DataFrameSelector(['Lead_Creation_Date', 'DOB'])),\n",
    "        (\"date_manager\", DateFix()),\n",
    "        (\"imputer\", SimpleImputer(strategy=\"median\")),\n",
    "        (\"scaler\", MinMaxScaler())\n",
    "    ])\n",
    "money_pipeline = Pipeline([\n",
    "        (\"selector\", DataFrameSelector(['Loan_Amount_Applied', 'Loan_Tenure_Applied', 'Monthly_Income', 'Loan_Amount_Submitted',\n",
    "                                        'Loan_Tenure_Submitted', 'Interest_Rate', 'Processing_Fee', 'Existing_EMI'])),\n",
    "        (\"money\", Money()),\n",
    "        (\"scaler\", MinMaxScaler())\n",
    "    ])\n",
    "\n",
    "cat_pipeline = Pipeline([\n",
    "        (\"selector\", DataFrameSelector(['Gender', 'Var1', 'Var2', 'Source', 'Var4'])),\n",
    "        (\"imputer\", SimpleImputer(strategy=\"most_frequent\")),\n",
    "        (\"cat_encoder\", OneHotEncoder(sparse=False, handle_unknown='ignore'))\n",
    "    ])\n",
    "num_pipeline = Pipeline([\n",
    "        (\"selector\", DataFrameSelector(['Var5'])),\n",
    "        (\"imputer\", SimpleImputer(strategy=\"median\")),\n",
    "        (\"scaler\", MinMaxScaler())\n",
    "    ])"
   ]
  },
  {
   "cell_type": "code",
   "execution_count": 21,
   "metadata": {},
   "outputs": [],
   "source": [
    "from sklearn.pipeline import FeatureUnion\n",
    "\n",
    "preprocess_pipeline = FeatureUnion(transformer_list=[\n",
    "        (\"category_dict\", cat_dict_pipeline),\n",
    "        (\"numerical_dict\", num_dict_pipeline),\n",
    "        (\"dates\", dates_pipeline),\n",
    "        (\"money\", money_pipeline),\n",
    "        (\"categorical\", cat_pipeline),\n",
    "        (\"numerical\", num_pipeline),\n",
    "    ])"
   ]
  },
  {
   "cell_type": "markdown",
   "metadata": {},
   "source": [
    "# 2. Modelling <a class=\"anchor\" id=\"second-bullet\"></a>"
   ]
  },
  {
   "cell_type": "code",
   "execution_count": 22,
   "metadata": {},
   "outputs": [],
   "source": [
    "from sklearn.model_selection import StratifiedKFold\n",
    "from sklearn.feature_selection import VarianceThreshold\n",
    "\n",
    "from sklearn.model_selection import cross_val_score\n",
    "from sklearn.model_selection import RandomizedSearchCV, GridSearchCV\n",
    "\n",
    "from sklearn import  metrics\n",
    "import scipy.stats as ss\n",
    "\n",
    "from collections import Counter\n",
    "\n",
    "from sklearn.linear_model import LogisticRegression\n",
    "from sklearn.tree import DecisionTreeClassifier\n",
    "from sklearn.ensemble import RandomForestClassifier, BaggingClassifier, AdaBoostClassifier, GradientBoostingClassifier\n",
    "from xgboost.sklearn import XGBClassifier\n",
    "\n",
    "from imblearn.over_sampling import RandomOverSampler\n",
    "from imblearn.under_sampling import RandomUnderSampler\n",
    "from imblearn.ensemble import BalancedBaggingClassifier, BalancedRandomForestClassifier, RUSBoostClassifier\n",
    "from imblearn.pipeline import Pipeline"
   ]
  },
  {
   "cell_type": "markdown",
   "metadata": {},
   "source": [
    "## Evaluation Cirteria\n",
    "Evaluation metrics of this challenge was ROC_AUC."
   ]
  },
  {
   "cell_type": "code",
   "execution_count": 140,
   "metadata": {},
   "outputs": [],
   "source": [
    "class Scoring():\n",
    "    def __init__(self, model, X, y, set_name=''):\n",
    "        self.model = model\n",
    "        self.X = X\n",
    "        self.y = y\n",
    "        self.set_name = set_name\n",
    "    def __repr__(self):\n",
    "        return \"Scoring()\"\n",
    "    def check(self):\n",
    "        m = self.model\n",
    "        X = self.X\n",
    "        y = self.y\n",
    "        self.metric_scores = []\n",
    "        self.y_pred = m.predict_proba(X)[:,1]\n",
    "        self.metric_scores.append((metrics.roc_auc_score(y, self.y_pred), 'ROC_AUC'))\n",
    "        self.metric_scores.append((metrics.precision_score(y, m.predict(X), zero_division=0), 'Precision'))\n",
    "        self.metric_scores.append((metrics.recall_score(y, m.predict(X)), 'Recall'))\n",
    "        self.metric_scores.append((metrics.f1_score(y, m.predict(X)), 'f1'))\n",
    "        self.metric_scores.append((metrics.balanced_accuracy_score(y, m.predict(X)), 'Balanced Accuracy'))\n",
    "        return self\n",
    "    def show(self):\n",
    "        for score in self.metric_scores:\n",
    "            print(f'{self.set_name} {score[1]} Score: {score[0].round(4)}')\n",
    "        return self\n",
    "#     def score_table(self):\n",
    "#         self.metric_scores"
   ]
  },
  {
   "cell_type": "markdown",
   "metadata": {},
   "source": [
    "## Imbalance Check"
   ]
  },
  {
   "cell_type": "code",
   "execution_count": 24,
   "metadata": {},
   "outputs": [
    {
     "data": {
      "image/png": "[encoded data removed]",
      "text/plain": [
       "<Figure size 432x288 with 1 Axes>"
      ]
     },
     "metadata": {
      "needs_background": "light"
     },
     "output_type": "display_data"
    }
   ],
   "source": [
    "\n",
    "sns.barplot(x=[0,1], y=[y_train.size - y_train.sum(), y_train.sum()])\n",
    "plt.xticks([0,1], labels=[f'No: {y_train.size - y_train.sum()}', f'Yes: {y_train.sum()}'])\n",
    "plt.yticks([])\n",
    "plt.title('Disbursed count')\n",
    "plt.show()"
   ]
  },
  {
   "cell_type": "markdown",
   "metadata": {},
   "source": [
    "**Significant imbalance in data will have to be adressed in modeling phase.**<br>\n",
    "Stratified K-Folds cross-validator will be used to partially deal with this issue."
   ]
  },
  {
   "cell_type": "code",
   "execution_count": 25,
   "metadata": {},
   "outputs": [],
   "source": [
    "skf = StratifiedKFold(n_splits=5)"
   ]
  },
  {
   "cell_type": "markdown",
   "metadata": {},
   "source": [
    "## Simple Tree Classifier\n",
    "For interpretability reasons Decission Tree is a good choice when deciding about loan disbursal."
   ]
  },
  {
   "cell_type": "code",
   "execution_count": 242,
   "metadata": {},
   "outputs": [
    {
     "data": {
      "text/plain": [
       "{'classifier__max_depth': 10, 'classifier__min_samples_leaf': 56}"
      ]
     },
     "execution_count": 242,
     "metadata": {},
     "output_type": "execute_result"
    }
   ],
   "source": [
    "tree_pipe = Pipeline([\n",
    "    ('preprocessing', preprocess_pipeline),\n",
    "    ('over', RandomOverSampler()),\n",
    "    ('classifier', DecisionTreeClassifier())\n",
    "])\n",
    "\n",
    "search_space = {'classifier__min_samples_leaf': np.arange(4,64,4),\n",
    "                'classifier__max_depth': np.arange(10,31,2)}\n",
    "\n",
    "tree_grid = GridSearchCV(tree_pipe, search_space,\n",
    "                    cv=skf,\n",
    "                    scoring='roc_auc',\n",
    "                    n_jobs=-1)\n",
    "\n",
    "tree_grid.fit(X_train, y_train)\n",
    "tree_grid.best_params_"
   ]
  },
  {
   "cell_type": "code",
   "execution_count": 244,
   "metadata": {},
   "outputs": [
    {
     "name": "stdout",
     "output_type": "stream",
     "text": [
      "Test ROC_AUC Score: 0.7933\n",
      "Test Precision Score: 0.0395\n",
      "Test Recall Score: 0.811\n",
      "Test f1 Score: 0.0753\n",
      "Test Balanced Accuracy Score: 0.7595\n"
     ]
    },
    {
     "data": {
      "text/plain": [
       "Scoring()"
      ]
     },
     "execution_count": 244,
     "metadata": {},
     "output_type": "execute_result"
    }
   ],
   "source": [
    "score = Scoring(tree_grid.best_estimator_, X_test, y_test, 'Test').check()\n",
    "score.show()"
   ]
  },
  {
   "cell_type": "code",
   "execution_count": 141,
   "metadata": {},
   "outputs": [
    {
     "name": "stdout",
     "output_type": "stream",
     "text": [
      "Test ROC_AUC Score: 0.7949\n",
      "Test Precision Score: 0.0389\n",
      "Test Recall Score: 0.8031\n",
      "Test f1 Score: 0.0742\n",
      "Test Balanced Accuracy Score: 0.7547\n"
     ]
    },
    {
     "data": {
      "text/plain": [
       "Scoring()"
      ]
     },
     "execution_count": 141,
     "metadata": {},
     "output_type": "execute_result"
    }
   ],
   "source": [
    "tree_pipe = Pipeline([\n",
    "    ('preprocessing', preprocess_pipeline),\n",
    "    ('over', RandomOverSampler()),\n",
    "    ('classifier', DecisionTreeClassifier(max_depth=10, min_samples_leaf=56))\n",
    "])\n",
    "tree_pipe.fit(X_train, y_train)\n",
    "score_tree = Scoring(tree_pipe, X_test, y_test, 'Test').check()\n",
    "score_tree.show()"
   ]
  },
  {
   "cell_type": "markdown",
   "metadata": {},
   "source": [
    "## RFClassifier"
   ]
  },
  {
   "cell_type": "markdown",
   "metadata": {},
   "source": [
    "First **'blind shot'** of hyperparameters."
   ]
  },
  {
   "cell_type": "code",
   "execution_count": 231,
   "metadata": {},
   "outputs": [
    {
     "name": "stdout",
     "output_type": "stream",
     "text": [
      "Test ROC_AUC Score: 0.8569\n",
      "Test Precision Score: 0.0597\n",
      "Test Recall Score: 0.5984\n",
      "Test f1 Score: 0.1086\n",
      "Test Balanced Accuracy Score: 0.7295\n"
     ]
    },
    {
     "data": {
      "text/plain": [
       "Scoring()"
      ]
     },
     "execution_count": 231,
     "metadata": {},
     "output_type": "execute_result"
    }
   ],
   "source": [
    "pipe = Pipeline([\n",
    "    ('preprocessing', preprocess_pipeline),\n",
    "    ('oversampler', RandomOverSampler()),\n",
    "    ('classifier', RandomForestClassifier(min_samples_leaf=50, n_jobs=-1))\n",
    "])\n",
    "pipe.fit(X_train, y_train)\n",
    "score = Scoring(pipe, X_test, y_test, 'Test').check()\n",
    "score.show()"
   ]
  },
  {
   "cell_type": "code",
   "execution_count": 230,
   "metadata": {},
   "outputs": [
    {
     "name": "stdout",
     "output_type": "stream",
     "text": [
      "Test ROC_AUC Score: 0.8609\n",
      "Test Precision Score: 0.0455\n",
      "Test Recall Score: 0.7874\n",
      "Test f1 Score: 0.0861\n",
      "Test Balanced Accuracy Score: 0.7715\n"
     ]
    },
    {
     "data": {
      "text/plain": [
       "Scoring()"
      ]
     },
     "execution_count": 230,
     "metadata": {},
     "output_type": "execute_result"
    }
   ],
   "source": [
    "pipe = Pipeline([\n",
    "    ('preprocessing', preprocess_pipeline),\n",
    "    ('over', RandomOverSampler(sampling_strategy=0.3)),\n",
    "    ('classifier', BalancedRandomForestClassifier(min_samples_leaf=50, n_jobs=-1))\n",
    "])\n",
    "pipe.fit(X_train, y_train)\n",
    "score = Scoring(pipe, X_test, y_test, 'Test').check()\n",
    "score.show()"
   ]
  },
  {
   "cell_type": "markdown",
   "metadata": {},
   "source": [
    "### Hyperparameter Search"
   ]
  },
  {
   "cell_type": "code",
   "execution_count": 228,
   "metadata": {},
   "outputs": [
    {
     "data": {
      "text/plain": [
       "{'classifier': BalancedRandomForestClassifier(min_samples_leaf=30, n_estimators=200,\n",
       "                                sampling_strategy='majority'),\n",
       " 'classifier__max_depth': None,\n",
       " 'classifier__min_samples_leaf': 30,\n",
       " 'classifier__n_estimators': 200,\n",
       " 'over__sampling_strategy': 0.4}"
      ]
     },
     "execution_count": 228,
     "metadata": {},
     "output_type": "execute_result"
    }
   ],
   "source": [
    "RFC_pipe = Pipeline([\n",
    "    ('preprocessing', preprocess_pipeline),\n",
    "    ('over', RandomOverSampler()),\n",
    "    ('classifier', RandomForestClassifier())\n",
    "])\n",
    "\n",
    "search_space = [{'classifier': [RandomForestClassifier()],\n",
    "                 'classifier__n_estimators': [100,150,200],\n",
    "                 'classifier__min_samples_leaf': [10,20,30,40],\n",
    "                 'classifier__max_depth': [7,10,None]},\n",
    "                {'classifier': [BalancedRandomForestClassifier(sampling_strategy='majority')],\n",
    "                 'classifier__n_estimators': [100,150,200],\n",
    "                 'classifier__min_samples_leaf': [10,20,30,40],\n",
    "                 'classifier__max_depth': [7,10,None],\n",
    "                 'over__sampling_strategy': [0.3,0.4]}]\n",
    "\n",
    "\n",
    "RFC_grid = GridSearchCV(RFC_pipe, search_space,\n",
    "                    cv=skf,\n",
    "                    scoring='roc_auc',\n",
    "                    n_jobs=-1)\n",
    "\n",
    "RFC_grid.fit(X_train, y_train)\n",
    "RFC_grid.best_params_"
   ]
  },
  {
   "cell_type": "code",
   "execution_count": 142,
   "metadata": {},
   "outputs": [
    {
     "name": "stdout",
     "output_type": "stream",
     "text": [
      "Test ROC_AUC Score: 0.864\n",
      "Test Precision Score: 0.0551\n",
      "Test Recall Score: 0.7087\n",
      "Test f1 Score: 0.1022\n",
      "Test Balanced Accuracy Score: 0.7643\n"
     ]
    },
    {
     "data": {
      "text/plain": [
       "Scoring()"
      ]
     },
     "execution_count": 142,
     "metadata": {},
     "output_type": "execute_result"
    }
   ],
   "source": [
    "score_RFC = Scoring(RFC_grid.best_estimator_, X_test, y_test, 'Test').check()\n",
    "score_RFC.show()"
   ]
  },
  {
   "cell_type": "code",
   "execution_count": 42,
   "metadata": {},
   "outputs": [],
   "source": [
    "# with open('RFC_grid.pkl', 'wb') as f:\n",
    "#     pickle.dump(RFC_grid, f)\n",
    "\n",
    "with open('RFC_grid.pkl', 'rb') as f:\n",
    "    RFC_grid = pickle.load(f)"
   ]
  },
  {
   "cell_type": "markdown",
   "metadata": {},
   "source": [
    "### Feature importance visualization"
   ]
  },
  {
   "cell_type": "code",
   "execution_count": 234,
   "metadata": {},
   "outputs": [
    {
     "data": {
      "image/png": "[encoded data removed]",
      "text/plain": [
       "<Figure size 1440x288 with 1 Axes>"
      ]
     },
     "metadata": {
      "needs_background": "light"
     },
     "output_type": "display_data"
    }
   ],
   "source": [
    "sel_pipe = RFC_grid.best_estimator_\n",
    "feature_names = [*sel_pipe['preprocessing'].transformer_list[0][1]['cat_encoder'].get_feature_names(),\n",
    "                *sel_pipe['preprocessing'].transformer_list[1][1]['dictionary'].get_feature_names(),\n",
    "                *sel_pipe['preprocessing'].transformer_list[2][1]['date_manager'].get_feature_names(),\n",
    "                *sel_pipe['preprocessing'].transformer_list[3][1]['money'].get_feature_names(),\n",
    "                *sel_pipe['preprocessing'].transformer_list[4][1]['cat_encoder'].get_feature_names(),\n",
    "                *sel_pipe['preprocessing'].transformer_list[5][1]['selector'].get_feature_names()]\n",
    "\n",
    "f_imp = sel_pipe['classifier'].feature_importances_\n",
    "stacked = np.vstack((f_imp, feature_names))\n",
    "idxs = np.argsort(f_imp)[::-1][:20]\n",
    "\n",
    "plt.figure(figsize=(20,4))\n",
    "sns.barplot(x=stacked[1][idxs], y=stacked[0][idxs].astype(np.float))\n",
    "plt.xticks(rotation=90)\n",
    "# plt.ylabel('Feature importance')\n",
    "plt.title('Feature importances', fontdict={'fontsize': 15})\n",
    "plt.show()"
   ]
  },
  {
   "cell_type": "markdown",
   "metadata": {},
   "source": [
    "## XGBoost"
   ]
  },
  {
   "cell_type": "code",
   "execution_count": 255,
   "metadata": {},
   "outputs": [
    {
     "name": "stdout",
     "output_type": "stream",
     "text": [
      "Test ROC_AUC Score: 0.8242\n",
      "Test Precision Score: 0.064\n",
      "Test Recall Score: 0.5118\n",
      "Test f1 Score: 0.1137\n",
      "Test Balanced Accuracy Score: 0.7005\n"
     ]
    },
    {
     "data": {
      "text/plain": [
       "Scoring()"
      ]
     },
     "execution_count": 255,
     "metadata": {},
     "output_type": "execute_result"
    }
   ],
   "source": [
    "pipe = Pipeline([\n",
    "    ('preprocessing', preprocess_pipeline),\n",
    "    ('over', RandomOverSampler()),\n",
    "    ('classifier', XGBClassifier(n_jobs=-1, use_label_encoder=False, eval_metric='logloss'))\n",
    "])\n",
    "pipe.fit(X_train, y_train)\n",
    "score = Scoring(pipe, X_test, y_test, 'Test').check()\n",
    "score.show()"
   ]
  },
  {
   "cell_type": "code",
   "execution_count": 257,
   "metadata": {},
   "outputs": [
    {
     "name": "stdout",
     "output_type": "stream",
     "text": [
      "Test ROC_AUC Score: 0.859\n",
      "Test Precision Score: 0.0433\n",
      "Test Recall Score: 0.7717\n",
      "Test f1 Score: 0.0821\n",
      "Test Balanced Accuracy Score: 0.7597\n"
     ]
    },
    {
     "data": {
      "text/plain": [
       "Scoring()"
      ]
     },
     "execution_count": 257,
     "metadata": {},
     "output_type": "execute_result"
    }
   ],
   "source": [
    "pipe = Pipeline([\n",
    "    ('preprocessing', preprocess_pipeline),\n",
    "    ('over', RandomOverSampler(sampling_strategy=.4)),\n",
    "    ('classifier', BalancedBaggingClassifier(base_estimator=XGBClassifier(n_estimators=10, n_jobs=-1, use_label_encoder=False, eval_metric='logloss'), n_estimators=80))\n",
    "])\n",
    "pipe.fit(X_train, y_train)\n",
    "score = Scoring(pipe, X_test, y_test, 'Test').check()\n",
    "score.show()"
   ]
  },
  {
   "cell_type": "markdown",
   "metadata": {},
   "source": [
    "### Hyperparameter Search"
   ]
  },
  {
   "cell_type": "code",
   "execution_count": 26,
   "metadata": {},
   "outputs": [
    {
     "data": {
      "text/plain": [
       "{'classifier__base_estimator__gamma': 0.024337154865433266,\n",
       " 'classifier__base_estimator__learning_rate': 0.5730172765715204,\n",
       " 'classifier__base_estimator__max_depth': 5,\n",
       " 'classifier__base_estimator__n_estimators': 7,\n",
       " 'classifier__n_estimators': 100,\n",
       " 'over__sampling_strategy': 0.5786782603706946}"
      ]
     },
     "execution_count": 26,
     "metadata": {},
     "output_type": "execute_result"
    }
   ],
   "source": [
    "XGB_pipe = Pipeline([\n",
    "    ('preprocessing', preprocess_pipeline),\n",
    "    ('over', RandomOverSampler()),\n",
    "    ('classifier', BalancedBaggingClassifier(\n",
    "        base_estimator=XGBClassifier(n_estimators=10, n_jobs=-1, use_label_encoder=False, eval_metric='logloss'))\n",
    "    )])\n",
    "\n",
    "param_grid = {'classifier__base_estimator__n_estimators': ss.randint(5, 10), \n",
    "              'classifier__base_estimator__learning_rate': ss.uniform(0.01,1),\n",
    "              'classifier__base_estimator__max_depth': ss.randint(5,15),\n",
    "              'classifier__base_estimator__gamma': ss.uniform(0, 0.05),\n",
    "              'classifier__n_estimators': [80,100,120,140],\n",
    "              'over__sampling_strategy': ss.uniform(0.3,.5)}\n",
    "\n",
    "XGB_optimizer = RandomizedSearchCV(XGB_pipe, param_grid, \n",
    "                               n_iter=50, \n",
    "                               cv=skf, \n",
    "                               n_jobs=-1,\n",
    "                               scoring='roc_auc')\n",
    "XGB_optimizer.fit(X_train, y_train)\n",
    "XGB_optimizer.best_params_"
   ]
  },
  {
   "cell_type": "code",
   "execution_count": 143,
   "metadata": {},
   "outputs": [
    {
     "name": "stdout",
     "output_type": "stream",
     "text": [
      "Test ROC_AUC Score: 0.8447\n",
      "Test Precision Score: 0.0418\n",
      "Test Recall Score: 0.7638\n",
      "Test f1 Score: 0.0793\n",
      "Test Balanced Accuracy Score: 0.7523\n"
     ]
    },
    {
     "data": {
      "text/plain": [
       "Scoring()"
      ]
     },
     "execution_count": 143,
     "metadata": {},
     "output_type": "execute_result"
    }
   ],
   "source": [
    "score_XGB = Scoring(XGB_optimizer, X_test, y_test, 'Test').check()\n",
    "score_XGB.show()"
   ]
  },
  {
   "cell_type": "code",
   "execution_count": 28,
   "metadata": {},
   "outputs": [],
   "source": [
    "# with open('XGB_optimizer.pkl', 'wb') as f:\n",
    "#     pickle.dump(XGB_optimizer, f)\n",
    "\n",
    "with open('XGB_optimizer.pkl', 'rb') as f:\n",
    "    XGB_optimizer = pickle.load(f)"
   ]
  },
  {
   "cell_type": "markdown",
   "metadata": {},
   "source": [
    "## Bagged GradientBoosting"
   ]
  },
  {
   "cell_type": "code",
   "execution_count": 132,
   "metadata": {},
   "outputs": [
    {
     "name": "stderr",
     "output_type": "stream",
     "text": [
      "c:\\users\\antos\\appdata\\local\\programs\\python\\python38\\lib\\site-packages\\sklearn\\model_selection\\_search.py:918: UserWarning: One or more of the test scores are non-finite: [       nan 0.8327448         nan 0.80938649        nan        nan\n",
      " 0.84031246        nan        nan        nan 0.83620129 0.82267119\n",
      "        nan        nan 0.83583459        nan        nan        nan\n",
      "        nan        nan        nan        nan 0.8415124         nan\n",
      "        nan        nan        nan        nan        nan 0.82764257\n",
      "        nan 0.83125375        nan        nan        nan        nan\n",
      "        nan        nan        nan        nan        nan        nan\n",
      "        nan        nan 0.83086957        nan        nan        nan\n",
      "        nan        nan]\n",
      "  warnings.warn(\n"
     ]
    },
    {
     "data": {
      "text/plain": [
       "{'classifier__base_estimator__learning_rate': 0.20745574849428047,\n",
       " 'classifier__base_estimator__max_depth': 6,\n",
       " 'classifier__base_estimator__min_samples_leaf': 30,\n",
       " 'classifier__base_estimator__n_estimators': 8,\n",
       " 'classifier__base_estimator__subsample': 0.9489400990599769,\n",
       " 'classifier__n_estimators': 100,\n",
       " 'over__sampling_strategy': 0.609246437938581}"
      ]
     },
     "execution_count": 132,
     "metadata": {},
     "output_type": "execute_result"
    }
   ],
   "source": [
    "GBC_pipe = Pipeline([\n",
    "    ('preprocessing', preprocess_pipeline),\n",
    "    ('over', RandomOverSampler()),\n",
    "    ('classifier', BalancedBaggingClassifier(\n",
    "        base_estimator=GradientBoostingClassifier())\n",
    "    )])\n",
    "\n",
    "param_grid = {'classifier__base_estimator__n_estimators': ss.randint(5, 10), \n",
    "              'classifier__base_estimator__learning_rate': ss.uniform(0.01,.3),\n",
    "              'classifier__base_estimator__max_depth': ss.randint(3,8),\n",
    "              'classifier__base_estimator__subsample': ss.uniform(.8, 1),\n",
    "              'classifier__base_estimator__min_samples_leaf': np.arange(10,70,5),\n",
    "              'classifier__n_estimators': [80,100,120,140],\n",
    "              'over__sampling_strategy': ss.uniform(0.3,.5)}\n",
    "\n",
    "GBC_optimizer = RandomizedSearchCV(GBC_pipe, param_grid, \n",
    "                               n_iter=50, \n",
    "                               cv=skf, \n",
    "                               n_jobs=-1,\n",
    "                               scoring='roc_auc')\n",
    "GBC_optimizer.fit(X_train, y_train)\n",
    "GBC_optimizer.best_params_"
   ]
  },
  {
   "cell_type": "code",
   "execution_count": 144,
   "metadata": {},
   "outputs": [
    {
     "name": "stdout",
     "output_type": "stream",
     "text": [
      "Test ROC_AUC Score: 0.8531\n",
      "Test Precision Score: 0.0432\n",
      "Test Recall Score: 0.8031\n",
      "Test f1 Score: 0.0819\n",
      "Test Balanced Accuracy Score: 0.7697\n"
     ]
    },
    {
     "data": {
      "text/plain": [
       "Scoring()"
      ]
     },
     "execution_count": 144,
     "metadata": {},
     "output_type": "execute_result"
    }
   ],
   "source": [
    "score_GBC = Scoring(GBC_optimizer, X_test, y_test, 'Test').check()\n",
    "score_GBC.show()"
   ]
  },
  {
   "cell_type": "code",
   "execution_count": 134,
   "metadata": {},
   "outputs": [],
   "source": [
    "# with open('GBC_optimizer.pkl', 'wb') as f:\n",
    "#     pickle.dump(GBC_optimizer, f)\n",
    "\n",
    "with open('GBC_optimizer.pkl', 'rb') as f:\n",
    "    GBC_optimizer = pickle.load(f)"
   ]
  },
  {
   "cell_type": "markdown",
   "metadata": {},
   "source": [
    "## Bagged AdaBoost"
   ]
  },
  {
   "cell_type": "markdown",
   "metadata": {},
   "source": [
    "### Hyperparameter Search"
   ]
  },
  {
   "cell_type": "code",
   "execution_count": 135,
   "metadata": {},
   "outputs": [
    {
     "data": {
      "text/plain": [
       "{'classifier__learning_rate': 0.14827278306546443,\n",
       " 'classifier__n_estimators': 142,\n",
       " 'over__sampling_strategy': 0.4490380040735202}"
      ]
     },
     "execution_count": 135,
     "metadata": {},
     "output_type": "execute_result"
    }
   ],
   "source": [
    "RUSB_pipe = Pipeline([\n",
    "    ('preprocessing', preprocess_pipeline),\n",
    "    ('over', RandomOverSampler()),\n",
    "    ('classifier', RUSBoostClassifier())\n",
    "])\n",
    "\n",
    "param_grid = {'classifier__n_estimators': ss.randint(50,200), \n",
    "              'classifier__learning_rate': ss.uniform(0.01,1),\n",
    "              'over__sampling_strategy': ss.uniform(0.3,.5)}\n",
    "\n",
    "RUSB_optimizer = RandomizedSearchCV(RUSB_pipe, param_grid, \n",
    "                               n_iter=50, \n",
    "                               cv=skf, \n",
    "                               n_jobs=-1,\n",
    "                               scoring='roc_auc')\n",
    "RUSB_optimizer.fit(X_train, y_train)\n",
    "RUSB_optimizer.best_params_"
   ]
  },
  {
   "cell_type": "code",
   "execution_count": 145,
   "metadata": {},
   "outputs": [
    {
     "name": "stdout",
     "output_type": "stream",
     "text": [
      "Test ROC_AUC Score: 0.8389\n",
      "Test Precision Score: 0.0383\n",
      "Test Recall Score: 0.8031\n",
      "Test f1 Score: 0.0732\n",
      "Test Balanced Accuracy Score: 0.7524\n"
     ]
    },
    {
     "data": {
      "text/plain": [
       "Scoring()"
      ]
     },
     "execution_count": 145,
     "metadata": {},
     "output_type": "execute_result"
    }
   ],
   "source": [
    "score_RUSB = Scoring(RUSB_optimizer, X_test, y_test, 'Test').check()\n",
    "score_RUSB.show()"
   ]
  },
  {
   "cell_type": "code",
   "execution_count": 137,
   "metadata": {},
   "outputs": [],
   "source": [
    "# with open('RUSB_optimizer.pkl', 'wb') as f:\n",
    "#     pickle.dump(RUSB_optimizer, f)\n",
    "\n",
    "with open('RUSB_optimizer.pkl', 'rb') as f:\n",
    "    RUSB_optimizer = pickle.load(f)"
   ]
  },
  {
   "cell_type": "markdown",
   "metadata": {},
   "source": [
    "# Results Summary and Conclusions"
   ]
  },
  {
   "cell_type": "code",
   "execution_count": 138,
   "metadata": {},
   "outputs": [],
   "source": [
    "col_n = np.array(score_tree.metric_scores)[:,1]\n",
    "score_sf = pd.DataFrame(columns=col_n)\n",
    "vals = np.array(score_tree.metric_scores)[:,0]\n",
    "score_sf.loc['Decission Tree'] = vals\n",
    "vals = np.array(score_RFC.metric_scores)[:,0]\n",
    "score_sf.loc['RFC'] = vals\n",
    "vals = np.array(score_XGB.metric_scores)[:,0]\n",
    "score_sf.loc['XGBoost'] = vals\n",
    "vals = np.array(score_GBC.metric_scores)[:,0]\n",
    "score_sf.loc['Gradiet Boosting'] = vals\n",
    "vals = np.array(score_RUSB.metric_scores)[:,0]\n",
    "score_sf.loc['AdaBoost'] = vals"
   ]
  },
  {
   "cell_type": "code",
   "execution_count": 139,
   "metadata": {},
   "outputs": [
    {
     "data": {
      "text/html": [
       "<style  type=\"text/css\" >\n",
       "#T_ce11f_row0_col0,#T_ce11f_row4_col1{\n",
       "            background-color:  #a2c1ff;\n",
       "            color:  #000000;\n",
       "        }#T_ce11f_row0_col1{\n",
       "            background-color:  #c3d5f4;\n",
       "            color:  #000000;\n",
       "        }#T_ce11f_row0_col2,#T_ce11f_row0_col4,#T_ce11f_row1_col3{\n",
       "            background-color:  #ca3b37;\n",
       "            color:  #f1f1f1;\n",
       "        }#T_ce11f_row0_col3{\n",
       "            background-color:  #c5d6f2;\n",
       "            color:  #000000;\n",
       "        }#T_ce11f_row1_col0,#T_ce11f_row1_col1,#T_ce11f_row3_col4{\n",
       "            background-color:  #cb3e38;\n",
       "            color:  #f1f1f1;\n",
       "        }#T_ce11f_row1_col2,#T_ce11f_row2_col4,#T_ce11f_row4_col3,#T_ce11f_row4_col4{\n",
       "            background-color:  #a3c2fe;\n",
       "            color:  #000000;\n",
       "        }#T_ce11f_row1_col4{\n",
       "            background-color:  #f59c7d;\n",
       "            color:  #000000;\n",
       "        }#T_ce11f_row2_col0{\n",
       "            background-color:  #f29274;\n",
       "            color:  #000000;\n",
       "        }#T_ce11f_row2_col1,#T_ce11f_row2_col3{\n",
       "            background-color:  #cdd9ec;\n",
       "            color:  #000000;\n",
       "        }#T_ce11f_row2_col2{\n",
       "            background-color:  #f2cab5;\n",
       "            color:  #000000;\n",
       "        }#T_ce11f_row3_col0{\n",
       "            background-color:  #e57058;\n",
       "            color:  #000000;\n",
       "        }#T_ce11f_row3_col1{\n",
       "            background-color:  #dbdcde;\n",
       "            color:  #000000;\n",
       "        }#T_ce11f_row3_col2,#T_ce11f_row4_col2{\n",
       "            background-color:  #eb7d62;\n",
       "            color:  #000000;\n",
       "        }#T_ce11f_row3_col3{\n",
       "            background-color:  #dddcdc;\n",
       "            color:  #000000;\n",
       "        }#T_ce11f_row4_col0{\n",
       "            background-color:  #f6a586;\n",
       "            color:  #000000;\n",
       "        }</style><table id=\"T_ce11f_\" ><thead>    <tr>        <th class=\"blank level0\" ></th>        <th class=\"col_heading level0 col0\" >ROC_AUC</th>        <th class=\"col_heading level0 col1\" >Precision</th>        <th class=\"col_heading level0 col2\" >Recall</th>        <th class=\"col_heading level0 col3\" >f1</th>        <th class=\"col_heading level0 col4\" >Balanced Accuracy</th>    </tr></thead><tbody>\n",
       "                <tr>\n",
       "                        <th id=\"T_ce11f_level0_row0\" class=\"row_heading level0 row0\" >Decission Tree</th>\n",
       "                        <td id=\"T_ce11f_row0_col0\" class=\"data row0 col0\" >0.792</td>\n",
       "                        <td id=\"T_ce11f_row0_col1\" class=\"data row0 col1\" >0.041</td>\n",
       "                        <td id=\"T_ce11f_row0_col2\" class=\"data row0 col2\" >0.827</td>\n",
       "                        <td id=\"T_ce11f_row0_col3\" class=\"data row0 col3\" >0.078</td>\n",
       "                        <td id=\"T_ce11f_row0_col4\" class=\"data row0 col4\" >0.770</td>\n",
       "            </tr>\n",
       "            <tr>\n",
       "                        <th id=\"T_ce11f_level0_row1\" class=\"row_heading level0 row1\" >RFC</th>\n",
       "                        <td id=\"T_ce11f_row1_col0\" class=\"data row1 col0\" >0.864</td>\n",
       "                        <td id=\"T_ce11f_row1_col1\" class=\"data row1 col1\" >0.055</td>\n",
       "                        <td id=\"T_ce11f_row1_col2\" class=\"data row1 col2\" >0.709</td>\n",
       "                        <td id=\"T_ce11f_row1_col3\" class=\"data row1 col3\" >0.102</td>\n",
       "                        <td id=\"T_ce11f_row1_col4\" class=\"data row1 col4\" >0.764</td>\n",
       "            </tr>\n",
       "            <tr>\n",
       "                        <th id=\"T_ce11f_level0_row2\" class=\"row_heading level0 row2\" >XGBoost</th>\n",
       "                        <td id=\"T_ce11f_row2_col0\" class=\"data row2 col0\" >0.845</td>\n",
       "                        <td id=\"T_ce11f_row2_col1\" class=\"data row2 col1\" >0.042</td>\n",
       "                        <td id=\"T_ce11f_row2_col2\" class=\"data row2 col2\" >0.764</td>\n",
       "                        <td id=\"T_ce11f_row2_col3\" class=\"data row2 col3\" >0.079</td>\n",
       "                        <td id=\"T_ce11f_row2_col4\" class=\"data row2 col4\" >0.752</td>\n",
       "            </tr>\n",
       "            <tr>\n",
       "                        <th id=\"T_ce11f_level0_row3\" class=\"row_heading level0 row3\" >Gradiet Boosting</th>\n",
       "                        <td id=\"T_ce11f_row3_col0\" class=\"data row3 col0\" >0.853</td>\n",
       "                        <td id=\"T_ce11f_row3_col1\" class=\"data row3 col1\" >0.043</td>\n",
       "                        <td id=\"T_ce11f_row3_col2\" class=\"data row3 col2\" >0.803</td>\n",
       "                        <td id=\"T_ce11f_row3_col3\" class=\"data row3 col3\" >0.082</td>\n",
       "                        <td id=\"T_ce11f_row3_col4\" class=\"data row3 col4\" >0.770</td>\n",
       "            </tr>\n",
       "            <tr>\n",
       "                        <th id=\"T_ce11f_level0_row4\" class=\"row_heading level0 row4\" >AdaBoost</th>\n",
       "                        <td id=\"T_ce11f_row4_col0\" class=\"data row4 col0\" >0.839</td>\n",
       "                        <td id=\"T_ce11f_row4_col1\" class=\"data row4 col1\" >0.038</td>\n",
       "                        <td id=\"T_ce11f_row4_col2\" class=\"data row4 col2\" >0.803</td>\n",
       "                        <td id=\"T_ce11f_row4_col3\" class=\"data row4 col3\" >0.073</td>\n",
       "                        <td id=\"T_ce11f_row4_col4\" class=\"data row4 col4\" >0.752</td>\n",
       "            </tr>\n",
       "    </tbody></table>"
      ],
      "text/plain": [
       "<pandas.io.formats.style.Styler at 0x27bc4b95e80>"
      ]
     },
     "execution_count": 139,
     "metadata": {},
     "output_type": "execute_result"
    }
   ],
   "source": [
    "df = score_sf.applymap(float)\n",
    "df.style.background_gradient(cmap='coolwarm', low=.5, high=.1).set_precision(3)"
   ]
  },
  {
   "cell_type": "code",
   "execution_count": 155,
   "metadata": {},
   "outputs": [
    {
     "data": {
      "image/png": "[encoded data removed]",
      "text/plain": [
       "<Figure size 720x432 with 1 Axes>"
      ]
     },
     "metadata": {},
     "output_type": "display_data"
    }
   ],
   "source": [
    "sns.set()\n",
    "plt.figure(figsize=(10,6))\n",
    "fpr, tpr, _ = metrics.roc_curve(y_test, score_tree.y_pred)\n",
    "plt.plot(fpr, tpr, label='DTree')\n",
    "fpr, tpr, _ = metrics.roc_curve(y_test, score_RFC.y_pred)\n",
    "plt.plot(fpr, tpr, label='RFC')\n",
    "fpr, tpr, _ = metrics.roc_curve(y_test, score_XGB.y_pred)\n",
    "plt.plot(fpr, tpr, label='XGB')\n",
    "fpr, tpr, _ = metrics.roc_curve(y_test, score_GBC.y_pred)\n",
    "plt.plot(fpr, tpr, label='GBCe')\n",
    "fpr, tpr, _ = metrics.roc_curve(y_test, score_RUSB.y_pred)\n",
    "plt.plot(fpr, tpr, label='RUSB')\n",
    "plt.legend()\n",
    "plt.show()"
   ]
  },
  {
   "cell_type": "markdown",
   "metadata": {},
   "source": [
    "Considering the results obtained, RFC performs best (scoring on ROC_AUC).<br>\n",
    "It is likely that with better optimization of the hyperparameters, the quality of the remaining classifiers would be slightly better.<br>\n",
    "The analysis performed is a very general check of the fit of the classification algorithms to the given dataset.\n",
    "\n",
    "With such an unbalanced dataset using measures other than ROC_AUC, it would be important to consider the choice of threshold (corresponding to needs)."
   ]
  }
 ],
 "metadata": {
  "kernelspec": {
   "display_name": "Python 3",
   "language": "python",
   "name": "python3"
  },
  "language_info": {
   "codemirror_mode": {
    "name": "ipython",
    "version": 3
   },
   "file_extension": ".py",
   "mimetype": "text/x-python",
   "name": "python",
   "nbconvert_exporter": "python",
   "pygments_lexer": "ipython3",
   "version": "3.8.3"
  }
 },
 "nbformat": 4,
 "nbformat_minor": 4
}

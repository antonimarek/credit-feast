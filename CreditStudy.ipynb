{
 "cells": [
  {
   "cell_type": "markdown",
   "metadata": {},
   "source": [
    "# Introduction\n",
    "This study explores the dataset made available for the competition<br>\n",
    "**Hackathon 3.x - Predict customer worth for Happy Customer Bank**<br>\n",
    "organised by _Analytics Vidhya_ in 2015.<br>\n",
    "\n",
    "For more information follow the link below:<br>\n",
    "https://discuss.analyticsvidhya.com/t/hackathon-3-x-predict-customer-worth-for-happy-customer-bank/3802\n",
    "\n",
    "### **Problem** _(as described in challange)_\n",
    "\n",
    "''Digital arms of banks today face challenges with lead conversion, they source leads through mediums like search, display, email campaigns and via affiliate partners. Here Happy Customer Bank faces same challenge of low conversion ratio. They have given a problem to identify the customers segments having higher conversion ratio for a specific loan product so that they can specifically target these customers, here they have provided a partial data set for salaried customers only from the last 3 months. They also capture basic details about customers like gender, DOB, existing EMI, employer Name, Loan Amount Required, Monthly Income, City, Interaction data and many others. Let’s look at the process at Happy Customer Bank.''\n",
    "\n",
    "### **Goal**\n",
    "\n",
    "Predict the probability of disbursal for test data set."
   ]
  },
  {
   "cell_type": "markdown",
   "metadata": {},
   "source": [
    "## Table of Contents\n",
    "\n",
    "1. **[Data preprocessing](#first-bullet)**\n",
    "2. **[Modelling](#second-bullet)**"
   ]
  },
  {
   "cell_type": "markdown",
   "metadata": {},
   "source": [
    "### Importing libraries"
   ]
  },
  {
   "cell_type": "code",
   "execution_count": 2,
   "metadata": {},
   "outputs": [],
   "source": [
    "import pandas as pd\n",
    "import numpy as np\n",
    "import matplotlib.pyplot as plt\n",
    "import wikipedia\n",
    "import re\n",
    "from bs4 import BeautifulSoup\n",
    "import seaborn as sns\n",
    "import pickle"
   ]
  },
  {
   "cell_type": "markdown",
   "metadata": {},
   "source": [
    "## Loading the data"
   ]
  },
  {
   "cell_type": "code",
   "execution_count": 3,
   "metadata": {},
   "outputs": [
    {
     "data": {
      "text/html": [
       "<div>\n",
       "<style scoped>\n",
       "    .dataframe tbody tr th:only-of-type {\n",
       "        vertical-align: middle;\n",
       "    }\n",
       "\n",
       "    .dataframe tbody tr th {\n",
       "        vertical-align: top;\n",
       "    }\n",
       "\n",
       "    .dataframe thead th {\n",
       "        text-align: right;\n",
       "    }\n",
       "</style>\n",
       "<table border=\"1\" class=\"dataframe\">\n",
       "  <thead>\n",
       "    <tr style=\"text-align: right;\">\n",
       "      <th></th>\n",
       "      <th>ID</th>\n",
       "      <th>Gender</th>\n",
       "      <th>City</th>\n",
       "      <th>Monthly_Income</th>\n",
       "      <th>DOB</th>\n",
       "      <th>Lead_Creation_Date</th>\n",
       "      <th>Loan_Amount_Applied</th>\n",
       "      <th>Loan_Tenure_Applied</th>\n",
       "      <th>Existing_EMI</th>\n",
       "      <th>Employer_Name</th>\n",
       "      <th>...</th>\n",
       "      <th>Interest_Rate</th>\n",
       "      <th>Processing_Fee</th>\n",
       "      <th>EMI_Loan_Submitted</th>\n",
       "      <th>Filled_Form</th>\n",
       "      <th>Device_Type</th>\n",
       "      <th>Var2</th>\n",
       "      <th>Source</th>\n",
       "      <th>Var4</th>\n",
       "      <th>LoggedIn</th>\n",
       "      <th>Disbursed</th>\n",
       "    </tr>\n",
       "  </thead>\n",
       "  <tbody>\n",
       "    <tr>\n",
       "      <th>0</th>\n",
       "      <td>ID000002C20</td>\n",
       "      <td>Female</td>\n",
       "      <td>Delhi</td>\n",
       "      <td>20000</td>\n",
       "      <td>23-May-78</td>\n",
       "      <td>15-May-15</td>\n",
       "      <td>300000.0</td>\n",
       "      <td>5.0</td>\n",
       "      <td>0.0</td>\n",
       "      <td>CYBOSOL</td>\n",
       "      <td>...</td>\n",
       "      <td>NaN</td>\n",
       "      <td>NaN</td>\n",
       "      <td>NaN</td>\n",
       "      <td>N</td>\n",
       "      <td>Web-browser</td>\n",
       "      <td>G</td>\n",
       "      <td>S122</td>\n",
       "      <td>1</td>\n",
       "      <td>0</td>\n",
       "      <td>0</td>\n",
       "    </tr>\n",
       "    <tr>\n",
       "      <th>1</th>\n",
       "      <td>ID000004E40</td>\n",
       "      <td>Male</td>\n",
       "      <td>Mumbai</td>\n",
       "      <td>35000</td>\n",
       "      <td>07-Oct-85</td>\n",
       "      <td>04-May-15</td>\n",
       "      <td>200000.0</td>\n",
       "      <td>2.0</td>\n",
       "      <td>0.0</td>\n",
       "      <td>TATA CONSULTANCY SERVICES LTD (TCS)</td>\n",
       "      <td>...</td>\n",
       "      <td>13.25</td>\n",
       "      <td>NaN</td>\n",
       "      <td>6762.9</td>\n",
       "      <td>N</td>\n",
       "      <td>Web-browser</td>\n",
       "      <td>G</td>\n",
       "      <td>S122</td>\n",
       "      <td>3</td>\n",
       "      <td>0</td>\n",
       "      <td>0</td>\n",
       "    </tr>\n",
       "    <tr>\n",
       "      <th>2</th>\n",
       "      <td>ID000007H20</td>\n",
       "      <td>Male</td>\n",
       "      <td>Panchkula</td>\n",
       "      <td>22500</td>\n",
       "      <td>10-Oct-81</td>\n",
       "      <td>19-May-15</td>\n",
       "      <td>600000.0</td>\n",
       "      <td>4.0</td>\n",
       "      <td>0.0</td>\n",
       "      <td>ALCHEMIST HOSPITALS LTD</td>\n",
       "      <td>...</td>\n",
       "      <td>NaN</td>\n",
       "      <td>NaN</td>\n",
       "      <td>NaN</td>\n",
       "      <td>N</td>\n",
       "      <td>Web-browser</td>\n",
       "      <td>B</td>\n",
       "      <td>S143</td>\n",
       "      <td>1</td>\n",
       "      <td>0</td>\n",
       "      <td>0</td>\n",
       "    </tr>\n",
       "    <tr>\n",
       "      <th>3</th>\n",
       "      <td>ID000008I30</td>\n",
       "      <td>Male</td>\n",
       "      <td>Saharsa</td>\n",
       "      <td>35000</td>\n",
       "      <td>30-Nov-87</td>\n",
       "      <td>09-May-15</td>\n",
       "      <td>1000000.0</td>\n",
       "      <td>5.0</td>\n",
       "      <td>0.0</td>\n",
       "      <td>BIHAR GOVERNMENT</td>\n",
       "      <td>...</td>\n",
       "      <td>NaN</td>\n",
       "      <td>NaN</td>\n",
       "      <td>NaN</td>\n",
       "      <td>N</td>\n",
       "      <td>Web-browser</td>\n",
       "      <td>B</td>\n",
       "      <td>S143</td>\n",
       "      <td>3</td>\n",
       "      <td>0</td>\n",
       "      <td>0</td>\n",
       "    </tr>\n",
       "    <tr>\n",
       "      <th>4</th>\n",
       "      <td>ID000009J40</td>\n",
       "      <td>Male</td>\n",
       "      <td>Bengaluru</td>\n",
       "      <td>100000</td>\n",
       "      <td>17-Feb-84</td>\n",
       "      <td>20-May-15</td>\n",
       "      <td>500000.0</td>\n",
       "      <td>2.0</td>\n",
       "      <td>25000.0</td>\n",
       "      <td>GLOBAL EDGE SOFTWARE</td>\n",
       "      <td>...</td>\n",
       "      <td>NaN</td>\n",
       "      <td>NaN</td>\n",
       "      <td>NaN</td>\n",
       "      <td>N</td>\n",
       "      <td>Web-browser</td>\n",
       "      <td>B</td>\n",
       "      <td>S134</td>\n",
       "      <td>3</td>\n",
       "      <td>1</td>\n",
       "      <td>0</td>\n",
       "    </tr>\n",
       "  </tbody>\n",
       "</table>\n",
       "<p>5 rows × 26 columns</p>\n",
       "</div>"
      ],
      "text/plain": [
       "            ID  Gender       City  Monthly_Income        DOB  \\\n",
       "0  ID000002C20  Female      Delhi           20000  23-May-78   \n",
       "1  ID000004E40    Male     Mumbai           35000  07-Oct-85   \n",
       "2  ID000007H20    Male  Panchkula           22500  10-Oct-81   \n",
       "3  ID000008I30    Male    Saharsa           35000  30-Nov-87   \n",
       "4  ID000009J40    Male  Bengaluru          100000  17-Feb-84   \n",
       "\n",
       "  Lead_Creation_Date  Loan_Amount_Applied  Loan_Tenure_Applied  Existing_EMI  \\\n",
       "0          15-May-15             300000.0                  5.0           0.0   \n",
       "1          04-May-15             200000.0                  2.0           0.0   \n",
       "2          19-May-15             600000.0                  4.0           0.0   \n",
       "3          09-May-15            1000000.0                  5.0           0.0   \n",
       "4          20-May-15             500000.0                  2.0       25000.0   \n",
       "\n",
       "                         Employer_Name  ... Interest_Rate Processing_Fee  \\\n",
       "0                              CYBOSOL  ...           NaN            NaN   \n",
       "1  TATA CONSULTANCY SERVICES LTD (TCS)  ...         13.25            NaN   \n",
       "2              ALCHEMIST HOSPITALS LTD  ...           NaN            NaN   \n",
       "3                     BIHAR GOVERNMENT  ...           NaN            NaN   \n",
       "4                 GLOBAL EDGE SOFTWARE  ...           NaN            NaN   \n",
       "\n",
       "   EMI_Loan_Submitted Filled_Form  Device_Type  Var2  Source  Var4  LoggedIn  \\\n",
       "0                 NaN           N  Web-browser     G    S122     1         0   \n",
       "1              6762.9           N  Web-browser     G    S122     3         0   \n",
       "2                 NaN           N  Web-browser     B    S143     1         0   \n",
       "3                 NaN           N  Web-browser     B    S143     3         0   \n",
       "4                 NaN           N  Web-browser     B    S134     3         1   \n",
       "\n",
       "  Disbursed  \n",
       "0         0  \n",
       "1         0  \n",
       "2         0  \n",
       "3         0  \n",
       "4         0  \n",
       "\n",
       "[5 rows x 26 columns]"
      ]
     },
     "execution_count": 3,
     "metadata": {},
     "output_type": "execute_result"
    }
   ],
   "source": [
    "FILE = r'Data/Train_nyOWmfK.csv'\n",
    "data = pd.read_csv(FILE, encoding='latin1')\n",
    "data.head()"
   ]
  },
  {
   "cell_type": "code",
   "execution_count": 35,
   "metadata": {},
   "outputs": [],
   "source": [
    "X, y = data.drop([\"Disbursed\"], axis=1), data.Disbursed"
   ]
  },
  {
   "cell_type": "code",
   "execution_count": 36,
   "metadata": {},
   "outputs": [],
   "source": [
    "from sklearn.model_selection import train_test_split\n",
    "X_train, X_test, y_train, y_test = train_test_split(X, y, test_size=.1, random_state=20, stratify=y)"
   ]
  },
  {
   "cell_type": "markdown",
   "metadata": {},
   "source": [
    "# 1. Data preprocessing <a class=\"anchor\" id=\"first-bullet\"></a>"
   ]
  },
  {
   "cell_type": "markdown",
   "metadata": {},
   "source": [
    "## Creating dictionaries"
   ]
  },
  {
   "cell_type": "markdown",
   "metadata": {},
   "source": [
    "### Wikipedia scraping"
   ]
  },
  {
   "cell_type": "code",
   "execution_count": 7,
   "metadata": {},
   "outputs": [],
   "source": [
    "def wiki_table_scraper(title, table_num=0, header=True):\n",
    "    wikipedia.set_lang(\"en\")\n",
    "    page = wikipedia.page(title=title).html()\n",
    "    soup = BeautifulSoup(page, 'html')\n",
    "    table = soup.find_all('table', {'class':\"wikitable sortable\"})[table_num]\n",
    "    head = False\n",
    "    if header:\n",
    "        trs = table.find_all('tr')[1:]\n",
    "        head = [line.text.strip() for line in table.find_all('tr')[0].find_all('th')]\n",
    "    else:\n",
    "        trs = table.find_all('tr')\n",
    "    \n",
    "    table_list = [[n.text.strip() for n in line.find_all('td')] for line in trs]\n",
    "    result = pd.DataFrame(data=table_list, columns=head)\n",
    "    return result"
   ]
  },
  {
   "cell_type": "markdown",
   "metadata": {},
   "source": [
    "#### Assigning state to particular city\n",
    "**1st approach:** _Retrieving information from the Indian population table_"
   ]
  },
  {
   "cell_type": "code",
   "execution_count": 8,
   "metadata": {},
   "outputs": [],
   "source": [
    "def match_state():\n",
    "    city_state = wiki_table_scraper('List_of_cities_in_India_by_population')\n",
    "    city_state.City = city_state.City.apply(lambda x: re.search(r'[\\w]+', x).group())\n",
    "    city_state.iloc[:,4] = city_state.iloc[:,4].apply(lambda x: re.search(r'[\\w ]+', x).group())\n",
    "    state_dict = city_state.set_index(city_state.iloc[:,1]).iloc[:,4].to_dict()\n",
    "    return state_dict"
   ]
  },
  {
   "cell_type": "markdown",
   "metadata": {},
   "source": [
    "**2nd approach:** _Search for specific queries_  >>>  _(Filling in the missing information for cities not included in the table.)_"
   ]
  },
  {
   "cell_type": "code",
   "execution_count": 9,
   "metadata": {},
   "outputs": [],
   "source": [
    "def unmatched(df, match_dict, key):\n",
    "    non_match = df[~df[key].isin(match_dict.keys())][key].value_counts().index\n",
    "    return non_match"
   ]
  },
  {
   "cell_type": "code",
   "execution_count": 10,
   "metadata": {},
   "outputs": [],
   "source": [
    "def match_state_complex(state_names, unmatched, a_sugg=False):    \n",
    "    matching = {}\n",
    "    for name in unmatched:\n",
    "        try:\n",
    "            page_key = wikipedia.search(f'{name} india')[0]\n",
    "            page_summary = wikipedia.page(page_key, auto_suggest=a_sugg).summary\n",
    "            matching[name] = page_summary\n",
    "        except:\n",
    "            pass\n",
    "    match_df = pd.DataFrame.from_dict(matching, orient='index')\n",
    "    match_df.index\n",
    "    \n",
    "    matching_states = {}\n",
    "    for ix in match_df.index:\n",
    "        try:\n",
    "            for word in (match_df.loc[ix, 0]).split():\n",
    "                if word in state_names:\n",
    "                    correct_state = word\n",
    "                    break\n",
    "            matching_states[ix] = correct_state\n",
    "        except:\n",
    "            pass\n",
    "    return matching_states"
   ]
  },
  {
   "cell_type": "markdown",
   "metadata": {},
   "source": [
    "#### Assigning GDPs to states"
   ]
  },
  {
   "cell_type": "code",
   "execution_count": 11,
   "metadata": {},
   "outputs": [],
   "source": [
    "def match_state_GDP():\n",
    "    gdpS = wiki_table_scraper('List_of_Indian_states_and_union_territories_by_GDP')\n",
    "    gdpS.iloc[:,2] = gdpS.iloc[:,2].apply(lambda x: re.search(r'\\d+.\\d+ la', x).group()[:-3]).map(float)\n",
    "    state_to_gdp = gdpS.set_index(gdpS.iloc[:,1]).iloc[:,2].to_dict()\n",
    "    return state_to_gdp"
   ]
  },
  {
   "cell_type": "markdown",
   "metadata": {},
   "source": [
    "#### Assigning population count to cities"
   ]
  },
  {
   "cell_type": "code",
   "execution_count": 12,
   "metadata": {},
   "outputs": [],
   "source": [
    "def match_population():\n",
    "    city_table = wiki_table_scraper('List_of_cities_in_India_by_population')\n",
    "    city_table.City = city_table.City.apply(lambda x: re.search(r'[\\w]+', x).group())\n",
    "    city_table.iloc[:,2] = city_table.iloc[:,2].apply(lambda x: x.replace(',','')).map(int)\n",
    "    city_pop_dict = city_table.set_index(city_table.iloc[:,1]).iloc[:,2].to_dict()\n",
    "    return city_pop_dict"
   ]
  },
  {
   "cell_type": "code",
   "execution_count": 13,
   "metadata": {},
   "outputs": [],
   "source": [
    "def create_dictionaries(dataframe):\n",
    "#     city_to_state = match_state()\n",
    "#     states = set(city_to_state.values()) # set of India's states for further use\n",
    "\n",
    "#     non_matched = unmatched(dataframe, city_to_state, 'City')\n",
    "#     city_to_state.update(match_state_complex(states, non_matched))\n",
    "    \n",
    "    #------------------------------------------------\n",
    "    # with open('city_to_state.pkl', 'wb') as f:\n",
    "    #         pickle.dump(city_to_state, f)\n",
    "\n",
    "    with open('city_to_state.pkl', 'rb') as f:\n",
    "            city_to_state = pickle.load(f)\n",
    "    #------------------------------------------------\n",
    "    states = set(city_to_state.values())\n",
    "    \n",
    "    non_matched = unmatched(dataframe, city_to_state, 'City')\n",
    "    city_to_state.update(match_state_complex(states, non_matched, a_sugg=True))\n",
    "\n",
    "    states_not_matched = unmatched(dataframe, city_to_state, 'City')\n",
    "    \n",
    "    GDP_dict = match_state_GDP()\n",
    "    city_population = match_population()\n",
    "    \n",
    "    # Creating City Rank with first 20 cities sorted by most frequent occurrence in the data\n",
    "    city_rank_keys = dataframe.City.value_counts()[:20].keys()\n",
    "    \n",
    "    # Creating Employer Rank with first 15 Employers sorted by most frequent occurrence in the data\n",
    "    employer_rank_keys = dataframe.Employer_Name.value_counts()[:15].keys()\n",
    "    \n",
    "    return city_to_state, GDP_dict, city_population, city_rank_keys, employer_rank_keys, states_not_matched"
   ]
  },
  {
   "cell_type": "markdown",
   "metadata": {},
   "source": [
    "#### Monthly Income\n",
    "Cutting part of the outliers with substitution to the maximum value _100 000_ (this value is still over upper IQR bound)"
   ]
  },
  {
   "cell_type": "code",
   "execution_count": 14,
   "metadata": {},
   "outputs": [
    {
     "data": {
      "image/png": "[encoded data removed]",
      "text/plain": [
       "<Figure size 1080x216 with 2 Axes>"
      ]
     },
     "metadata": {
      "needs_background": "light"
     },
     "output_type": "display_data"
    }
   ],
   "source": [
    "fig, axs = plt.subplots(1, 2, figsize=(15,3))\n",
    "\n",
    "sns.boxplot(x=X_train.Monthly_Income, ax=axs[0])\n",
    "axs[0].title.set_text(\"Original Data\")\n",
    "sns.boxplot(x=X_train.Monthly_Income.where(X_train.Monthly_Income < 100000, other=100000), ax=axs[1])\n",
    "axs[1].title.set_text(\"Outliers cut-off\")\n",
    "\n",
    "plt.show()"
   ]
  },
  {
   "cell_type": "code",
   "execution_count": 15,
   "metadata": {},
   "outputs": [],
   "source": [
    "# dictionaries = create_dictionaries(X_train)\n",
    "\n",
    "# with open('dictionaries.pkl', 'wb') as f:\n",
    "#     pickle.dump(dictionaries, f)\n",
    "\n",
    "with open('dictionaries.pkl', 'rb') as f:\n",
    "    dictionaries = pickle.load(f)\n",
    "        \n",
    "to_state, GDPs, population, city_rank, employer_rank_keys, states_not_matched = dictionaries"
   ]
  },
  {
   "cell_type": "markdown",
   "metadata": {},
   "source": [
    "There are a few cities with no state assigned - for the purpose of simplicity they will be ignored in this study:"
   ]
  },
  {
   "cell_type": "code",
   "execution_count": 16,
   "metadata": {},
   "outputs": [
    {
     "name": "stdout",
     "output_type": "stream",
     "text": [
      "AHMEDB                  9\n",
      "Janigir - Champa        7\n",
      "Pontashaib              5\n",
      "Proddattur              5\n",
      "Kamrup Metropolitian    3\n",
      "Banaskhantha            3\n",
      "DHANGARDHA              3\n",
      "SURENDERNAGAR           3\n",
      "SOMNATH JUNAGADHA       1\n",
      "Surendra Nagar          1\n",
      "Chinnamiram             1\n",
      "Name: City, dtype: int64\n",
      "\n",
      "Missing 41 values.\n"
     ]
    }
   ],
   "source": [
    "print(X_train[X_train.City.isin(states_not_matched)].City.value_counts())\n",
    "print('\\nMissing', X_train[X_train.City.isin(states_not_matched)].City.count(), 'values.')"
   ]
  },
  {
   "cell_type": "code",
   "execution_count": 17,
   "metadata": {},
   "outputs": [],
   "source": [
    "from sklearn.base import BaseEstimator, TransformerMixin\n",
    "\n",
    "class DataFrameSelector(BaseEstimator, TransformerMixin):\n",
    "    def __init__(self, attribute_names):\n",
    "        self.attribute_names = attribute_names\n",
    "    def fit(self, X, y=None):\n",
    "        return self\n",
    "    def transform(self, X, y=None):\n",
    "        return X[self.attribute_names]"
   ]
  },
  {
   "cell_type": "code",
   "execution_count": 18,
   "metadata": {},
   "outputs": [],
   "source": [
    "from sklearn.pipeline import Pipeline\n",
    "from sklearn.impute import SimpleImputer, KNNImputer\n",
    "from sklearn.preprocessing import OneHotEncoder, MinMaxScaler, StandardScaler"
   ]
  },
  {
   "cell_type": "code",
   "execution_count": 19,
   "metadata": {},
   "outputs": [],
   "source": [
    "class CatDictionaries(BaseEstimator, TransformerMixin):\n",
    "    def __init__(self, state, city_rank, emp_rank):\n",
    "        self.state = state\n",
    "        self.city_rank = city_rank\n",
    "        self.emp_rank = emp_rank\n",
    "    def fit(self, X, y=None):\n",
    "        return self\n",
    "    def transform(self, X, y=None):\n",
    "        df = pd.DataFrame(columns=['State', 'City_rank', 'Employer_rank'])\n",
    "        df.State = X.City.map(self.state)\n",
    "        df.City_rank = X.City.where(X.City.isin(self.city_rank), other='other')\n",
    "        df.Employer_rank = X.Employer_Name.where(X.Employer_Name.isin(self.emp_rank), other='other')\n",
    "        return df\n",
    "    \n",
    "class NumDictionaries(BaseEstimator, TransformerMixin):\n",
    "    def __init__(self, state, gpd, population):\n",
    "        self.state = state\n",
    "        self.gpd = gpd\n",
    "        self.population = population\n",
    "    def fit(self, X, y=None):\n",
    "        return self\n",
    "    def transform(self, X, y=None):\n",
    "        df = pd.DataFrame(columns=['StateGDP','City_population'])\n",
    "        df.StateGDP = X.City.map(self.state).map(self.gpd).map(float)\n",
    "        df.City_population = X.City.map(self.population)\n",
    "        return df"
   ]
  },
  {
   "cell_type": "markdown",
   "metadata": {},
   "source": [
    "#### Dates processing"
   ]
  },
  {
   "cell_type": "code",
   "execution_count": 20,
   "metadata": {},
   "outputs": [],
   "source": [
    "class DateFix(BaseEstimator, TransformerMixin):\n",
    "    def fit(self, X, y=None):\n",
    "        return self\n",
    "    def transform(self, X, y=None):\n",
    "        df = pd.DataFrame(columns=['Age_at_lead'])\n",
    "        df.Age_at_lead = pd.to_datetime(X['Lead_Creation_Date'], format='%d-%b-%y').dt.year - pd.to_datetime(X['DOB'], format='%d-%b-%y').dt.year\n",
    "        df.Age_at_lead = df['Age_at_lead'].where(df['Age_at_lead'] > 0, df['Age_at_lead'] + 100)\n",
    "        df.Age_at_lead = np.log(1+df.Age_at_lead)\n",
    "        return df"
   ]
  },
  {
   "cell_type": "code",
   "execution_count": 21,
   "metadata": {},
   "outputs": [],
   "source": [
    "class Money(BaseEstimator, TransformerMixin):\n",
    "    def __init__(self):\n",
    "        self.imputer = None\n",
    "    def fit(self, X, y=None):\n",
    "        for_impute = X[['Monthly_Income', 'Loan_Amount_Submitted', 'Loan_Tenure_Submitted', 'Interest_Rate', 'Processing_Fee']]\n",
    "        imputer = KNNImputer(n_neighbors=2)\n",
    "        self.imputer = imputer.fit(for_impute.dropna(how='any').sample(n=500))\n",
    "        return self\n",
    "    def transform(self, X, y=None):\n",
    "        df = pd.DataFrame(columns=['Monthly_Income', 'Loan_Amount_Submitted', 'Loan_Tenure_Submitted', 'Interest_Rate',\n",
    "                                   'Processing_Fee', 'EMI_sub_calc', 'EMI_Income_tot_ratio', 'EMI_sub_Income_ratio']) #, 'Loan_Amount_Applied', 'Loan_Tenure_Applied'])\n",
    "        df.Monthly_Income = X.Monthly_Income.where(X.Monthly_Income < 100000, other=100000)\n",
    "        for_impute = X[['Monthly_Income', 'Loan_Amount_Submitted', 'Loan_Tenure_Submitted', 'Interest_Rate', 'Processing_Fee']]\n",
    "        imputed = self.imputer.transform(for_impute)\n",
    "        df.Loan_Amount_Submitted = pd.DataFrame(imputed, index=for_impute.index)[1]\n",
    "        df.Loan_Tenure_Submitted = pd.DataFrame(imputed, index=for_impute.index)[2]\n",
    "        df.Interest_Rate = pd.DataFrame(imputed, index=for_impute.index)[3]\n",
    "        df.Processing_Fee = pd.DataFrame(imputed, index=for_impute.index)[4]\n",
    "       \n",
    "        # creating additional columns: EMI calculated and EMI/Income ratios\n",
    "        EMI_P = df.Loan_Amount_Submitted\n",
    "        EMI_R = df.Interest_Rate/12/100\n",
    "        EMI_N = df.Loan_Tenure_Submitted*12\n",
    "\n",
    "        df.EMI_sub_calc = (EMI_P * EMI_R * (1 + EMI_R)**EMI_N) / ((1 + EMI_R)**EMI_N - 1)\n",
    "        df.EMI_Income_tot_ratio = (X.Existing_EMI + df.EMI_sub_calc) / X.Monthly_Income\n",
    "        df.EMI_sub_Income_ratio = df.EMI_sub_calc / X.Monthly_Income\n",
    "        \n",
    "        df.EMI_sub_calc = np.log(1+df.EMI_sub_calc)\n",
    "        df.EMI_Income_tot_ratio = df.EMI_Income_tot_ratio.where(df.EMI_Income_tot_ratio < 1, other=1)\n",
    "        df.EMI_Income_tot_ratio = np.log(1+df.EMI_Income_tot_ratio)\n",
    "        df.EMI_sub_Income_ratio = df.EMI_sub_Income_ratio.where(df.EMI_sub_Income_ratio < 1, other=1)\n",
    "#         df.EMI_sub_Income_ratio = np.log(1+df.EMI_sub_Income_ratio)\n",
    "        df.Loan_Amount_Submitted = np.log(1+df.Loan_Amount_Submitted)\n",
    "        df.Processing_Fee = np.log(1+df.Processing_Fee)\n",
    "        \n",
    "#         df.Loan_Amount_Applied = np.log(1+X.Loan_Amount_Applied)\n",
    "#         df.Loan_Tenure_Applied = X.Loan_Tenure_Applied\n",
    "        \n",
    "        return df"
   ]
  },
  {
   "cell_type": "code",
   "execution_count": 43,
   "metadata": {},
   "outputs": [],
   "source": [
    "cat_dict_pipeline = Pipeline([\n",
    "        (\"selector\", DataFrameSelector(['City','Employer_Name'])),\n",
    "        (\"dictionary\", CatDictionaries(to_state, city_rank, employer_rank_keys)),\n",
    "        (\"imputer\", SimpleImputer(strategy=\"most_frequent\")),\n",
    "        (\"cat_encoder\", OneHotEncoder(sparse=False, handle_unknown='ignore'))\n",
    "    ])\n",
    "num_dict_pipeline = Pipeline([\n",
    "        (\"selector\", DataFrameSelector(['City'])),\n",
    "        (\"dictionary\", NumDictionaries(to_state, GDPs, population)),\n",
    "        (\"imputer\", SimpleImputer(strategy=\"median\")),\n",
    "        (\"scaler\", MinMaxScaler())\n",
    "    ])\n",
    "dates_pipeline = Pipeline([\n",
    "        (\"selector\", DataFrameSelector(['Lead_Creation_Date', 'DOB'])),\n",
    "        (\"date_manager\", DateFix()),\n",
    "        (\"imputer\", SimpleImputer(strategy=\"median\")),\n",
    "        (\"scaler\", MinMaxScaler())\n",
    "    ])\n",
    "money_pipeline = Pipeline([\n",
    "        (\"selector\", DataFrameSelector(['Loan_Amount_Applied', 'Loan_Tenure_Applied', 'Monthly_Income', 'Loan_Amount_Submitted',\n",
    "                                        'Loan_Tenure_Submitted', 'Interest_Rate', 'Processing_Fee', 'Existing_EMI'])),\n",
    "        (\"date_manager\", Money()),\n",
    "        (\"scaler\", MinMaxScaler())\n",
    "    ])\n",
    "\n",
    "cat_pipeline = Pipeline([\n",
    "        (\"selector\", DataFrameSelector(['Gender', 'Var1', 'Var2', 'Source', 'Var4'])),\n",
    "        (\"imputer\", SimpleImputer(strategy=\"most_frequent\")),\n",
    "        (\"cat_encoder\", OneHotEncoder(sparse=False, handle_unknown='ignore'))\n",
    "    ])\n",
    "num_pipeline = Pipeline([\n",
    "        (\"selector\", DataFrameSelector(['Var5'])),\n",
    "        (\"imputer\", SimpleImputer(strategy=\"median\")),\n",
    "        (\"scaler\", MinMaxScaler())\n",
    "    ])"
   ]
  },
  {
   "cell_type": "code",
   "execution_count": 44,
   "metadata": {},
   "outputs": [],
   "source": [
    "from sklearn.pipeline import FeatureUnion\n",
    "\n",
    "preprocess_pipeline = FeatureUnion(transformer_list=[\n",
    "        (\"category_dict\", cat_dict_pipeline),\n",
    "        (\"numerical_dict\", num_dict_pipeline),\n",
    "        (\"dates\", dates_pipeline),\n",
    "        (\"money\", money_pipeline),\n",
    "        (\"categorical\", cat_pipeline),\n",
    "        (\"numerical\", num_pipeline),\n",
    "    ])"
   ]
  },
  {
   "cell_type": "markdown",
   "metadata": {},
   "source": [
    "# 2. Modelling <a class=\"anchor\" id=\"second-bullet\"></a>"
   ]
  },
  {
   "cell_type": "code",
   "execution_count": 24,
   "metadata": {},
   "outputs": [],
   "source": [
    "from sklearn.model_selection import StratifiedKFold\n",
    "from sklearn.feature_selection import VarianceThreshold\n",
    "\n",
    "from sklearn.model_selection import cross_val_score\n",
    "from sklearn.model_selection import RandomizedSearchCV, GridSearchCV\n",
    "\n",
    "from sklearn.metrics import roc_auc_score\n",
    "import scipy.stats as ss\n",
    "\n",
    "from sklearn.ensemble import RandomForestClassifier\n",
    "from xgboost.sklearn import XGBClassifier\n",
    "\n",
    "from collections import Counter"
   ]
  },
  {
   "cell_type": "markdown",
   "metadata": {},
   "source": [
    "## Evaluation Cirteria\n",
    "Evaluation metrics of this challenge was ROC_AUC."
   ]
  },
  {
   "cell_type": "code",
   "execution_count": 25,
   "metadata": {},
   "outputs": [],
   "source": [
    "def model_scoring(model,y_tr, X_tr ,y_te, X_te):\n",
    "    y_pred_train = model.predict_proba(X_tr)[:,1]\n",
    "    train_score = roc_auc_score(y_tr, y_pred_train)\n",
    "    y_pred_test = model.predict_proba(X_te)[:,1]\n",
    "    test_score = roc_auc_score(y_te, y_pred_test)\n",
    "    print(f'Train ROC_AUC Score: {train_score.round(4)}')\n",
    "    print(f'Test ROC_AUC Score: {test_score.round(4)}')"
   ]
  },
  {
   "cell_type": "markdown",
   "metadata": {},
   "source": [
    "## Imbalance Check"
   ]
  },
  {
   "cell_type": "code",
   "execution_count": 26,
   "metadata": {},
   "outputs": [
    {
     "data": {
      "image/png": "[encoded data removed]",
      "text/plain": [
       "<Figure size 432x288 with 1 Axes>"
      ]
     },
     "metadata": {
      "needs_background": "light"
     },
     "output_type": "display_data"
    }
   ],
   "source": [
    "\n",
    "sns.barplot(x=[0,1], y=[y_train.size - y_train.sum(), y_train.sum()])\n",
    "plt.xticks([0,1], labels=[f'No: {y_train.size - y_train.sum()}', f'Yes: {y_train.sum()}'])\n",
    "plt.yticks([])\n",
    "plt.title('Disbursed count')\n",
    "plt.show()"
   ]
  },
  {
   "cell_type": "markdown",
   "metadata": {},
   "source": [
    "**Significant imbalance in data will have to be adressed in modeling phase.**<br>\n",
    "Stratified K-Folds cross-validator will be used to partially deal with this issue."
   ]
  },
  {
   "cell_type": "code",
   "execution_count": 27,
   "metadata": {},
   "outputs": [],
   "source": [
    "skf = StratifiedKFold(n_splits=10)"
   ]
  },
  {
   "cell_type": "code",
   "execution_count": 102,
   "metadata": {},
   "outputs": [],
   "source": [
    "from sklearn.linear_model import LogisticRegression\n",
    "from sklearn.neighbors import KNeighborsClassifier\n",
    "from sklearn.tree import DecisionTreeClassifier\n",
    "from sklearn.ensemble import BaggingClassifier, AdaBoostClassifier, GradientBoostingClassifier"
   ]
  },
  {
   "cell_type": "markdown",
   "metadata": {},
   "source": [
    "### TODO\n",
    "- hyperparam optimization\n",
    "- best model selection"
   ]
  },
  {
   "cell_type": "code",
   "execution_count": 487,
   "metadata": {},
   "outputs": [
    {
     "name": "stdout",
     "output_type": "stream",
     "text": [
      "Train ROC_AUC Score: 0.8285\n",
      "Test ROC_AUC Score: 0.8418\n"
     ]
    }
   ],
   "source": [
    "pipe = Pipeline([\n",
    "    ('preprocessing', preprocess_pipeline),\n",
    "    ('var_cut', VarianceThreshold()),\n",
    "    ('classifier', LogisticRegression(penalty='l1', solver='saga', C=.1))\n",
    "])\n",
    "pipe.fit(X_train, y_train)\n",
    "model_scoring(pipe, y_train, X_train, y_test, X_test)"
   ]
  },
  {
   "cell_type": "code",
   "execution_count": 57,
   "metadata": {},
   "outputs": [
    {
     "name": "stdout",
     "output_type": "stream",
     "text": [
      "Train ROC_AUC Score: 0.934\n",
      "Test ROC_AUC Score: 0.7591\n"
     ]
    }
   ],
   "source": [
    "pipe = Pipeline([\n",
    "    ('preprocessing', preprocess_pipeline),\n",
    "    ('classifier', DecisionTreeClassifier(min_samples_leaf=40, max_depth=15))\n",
    "])\n",
    "pipe.fit(X_train, y_train)\n",
    "model_scoring(pipe, y_train, X_train, y_test, X_test)"
   ]
  },
  {
   "cell_type": "code",
   "execution_count": 98,
   "metadata": {},
   "outputs": [
    {
     "name": "stdout",
     "output_type": "stream",
     "text": [
      "Train ROC_AUC Score: 0.9996\n",
      "Test ROC_AUC Score: 0.7466\n"
     ]
    }
   ],
   "source": [
    "pipe = Pipeline([\n",
    "    ('preprocessing', preprocess_pipeline),\n",
    "    ('var_cut', VarianceThreshold()),\n",
    "    ('classifier', BaggingClassifier(n_estimators=40, max_samples=.4))\n",
    "])\n",
    "pipe.fit(X_train, y_train)\n",
    "model_scoring(pipe, y_train, X_train, y_test, X_test)"
   ]
  },
  {
   "cell_type": "code",
   "execution_count": 100,
   "metadata": {},
   "outputs": [
    {
     "name": "stdout",
     "output_type": "stream",
     "text": [
      "Train ROC_AUC Score: 0.8627\n",
      "Test ROC_AUC Score: 0.8448\n"
     ]
    }
   ],
   "source": [
    "pipe = Pipeline([\n",
    "    ('preprocessing', preprocess_pipeline),\n",
    "    ('var_cut', VarianceThreshold()),\n",
    "    ('classifier', AdaBoostClassifier(n_estimators=150, learning_rate=.4))\n",
    "])\n",
    "pipe.fit(X_train, y_train)\n",
    "model_scoring(pipe, y_train, X_train, y_test, X_test)"
   ]
  },
  {
   "cell_type": "code",
   "execution_count": 105,
   "metadata": {},
   "outputs": [
    {
     "name": "stdout",
     "output_type": "stream",
     "text": [
      "Train ROC_AUC Score: 0.8847\n",
      "Test ROC_AUC Score: 0.8586\n"
     ]
    }
   ],
   "source": [
    "pipe = Pipeline([\n",
    "    ('preprocessing', preprocess_pipeline),\n",
    "    ('var_cut', VarianceThreshold()),\n",
    "    ('classifier', GradientBoostingClassifier(n_estimators=200,learning_rate=.07))\n",
    "])\n",
    "pipe.fit(X_train, y_train)\n",
    "model_scoring(pipe, y_train, X_train, y_test, X_test)"
   ]
  },
  {
   "cell_type": "markdown",
   "metadata": {},
   "source": [
    "## RFC model\n",
    "First try - _default_ **RFC**:"
   ]
  },
  {
   "cell_type": "code",
   "execution_count": 488,
   "metadata": {},
   "outputs": [
    {
     "name": "stdout",
     "output_type": "stream",
     "text": [
      "Train ROC_AUC Score: 1.0\n",
      "Test ROC_AUC Score: 0.7824\n"
     ]
    }
   ],
   "source": [
    "pipe = Pipeline([\n",
    "    ('preprocessing', preprocess_pipeline),\n",
    "    ('classifier', RandomForestClassifier())\n",
    "])\n",
    "pipe.fit(X_train, y_train)\n",
    "model_scoring(pipe, y_train, X_train, y_test, X_test)"
   ]
  },
  {
   "cell_type": "markdown",
   "metadata": {},
   "source": [
    "As expected, default model is overfitting the data.<br>\n",
    "Limmited samples in leaves should do the trick (as below)."
   ]
  },
  {
   "cell_type": "code",
   "execution_count": 48,
   "metadata": {},
   "outputs": [
    {
     "name": "stdout",
     "output_type": "stream",
     "text": [
      "Train ROC_AUC Score: 0.9195\n",
      "Test ROC_AUC Score: 0.8587\n"
     ]
    }
   ],
   "source": [
    "pipe = Pipeline([\n",
    "    ('preprocessing', preprocess_pipeline),\n",
    "    ('classifier', RandomForestClassifier(min_samples_leaf=50))\n",
    "])\n",
    "pipe.fit(X_train, y_train)\n",
    "model_scoring(pipe, y_train, X_train, y_test, X_test)"
   ]
  },
  {
   "cell_type": "markdown",
   "metadata": {},
   "source": [
    "### Searching for optimal parameter combination (RFC)"
   ]
  },
  {
   "cell_type": "code",
   "execution_count": 41,
   "metadata": {},
   "outputs": [
    {
     "name": "stderr",
     "output_type": "stream",
     "text": [
      "c:\\users\\antos\\appdata\\local\\programs\\python\\python38\\lib\\site-packages\\sklearn\\model_selection\\_search.py:918: UserWarning: One or more of the test scores are non-finite: [nan nan nan nan nan nan nan nan nan nan nan nan nan nan nan]\n",
      "  warnings.warn(\n"
     ]
    },
    {
     "data": {
      "text/plain": [
       "{'classifier__min_samples_leaf': 10, 'classifier__n_estimators': 100}"
      ]
     },
     "execution_count": 41,
     "metadata": {},
     "output_type": "execute_result"
    }
   ],
   "source": [
    "pipe = Pipeline([\n",
    "    ('preprocessing', preprocess_pipeline),\n",
    "    ('classifier', RandomForestClassifier())\n",
    "])\n",
    "param_grid = {'classifier__n_estimators': [100,130,150,200,250],\n",
    "              'classifier__min_samples_leaf': [5,10,15,20,30,40,50],\n",
    "              'classifier__max_depth': [2,3,4,6,8,None]\n",
    "              }\n",
    "grid = GridSearchCV(pipe, param_grid,\n",
    "                    cv=skf,\n",
    "                    scoring='roc_auc',\n",
    "                    n_jobs=-1)\n",
    "\n",
    "grid.fit(X_train, y_train)\n",
    "grid.best_params_"
   ]
  },
  {
   "cell_type": "code",
   "execution_count": 42,
   "metadata": {},
   "outputs": [
    {
     "name": "stdout",
     "output_type": "stream",
     "text": [
      "Train ROC_AUC Score: 0.9854\n",
      "Test ROC_AUC Score: 0.8646\n"
     ]
    }
   ],
   "source": [
    "model_scoring(grid.best_estimator_, y_train, X_train, y_test, X_test)"
   ]
  },
  {
   "cell_type": "code",
   "execution_count": null,
   "metadata": {},
   "outputs": [],
   "source": []
  },
  {
   "cell_type": "code",
   "execution_count": 11,
   "metadata": {},
   "outputs": [],
   "source": [
    "with open('grid_RFC.pkl', 'rb') as f:\n",
    "    grid = pickle.load(f)"
   ]
  },
  {
   "cell_type": "markdown",
   "metadata": {},
   "source": [
    "### Feature selection"
   ]
  },
  {
   "cell_type": "code",
   "execution_count": 91,
   "metadata": {},
   "outputs": [
    {
     "data": {
      "text/plain": [
       "array(['x0_Andhra Pradesh', 'x0_Assam', 'x0_Bihar', 'x0_Chandigarh',\n",
       "       'x0_Chhattisgarh', 'x0_Delhi', 'x0_Gujarat', 'x0_Haryana',\n",
       "       'x0_Himachal Pradesh', 'x0_Jammu and Kashmir', 'x0_Jharkhand',\n",
       "       'x0_Karnataka', 'x0_Kerala', 'x0_Madhya Pradesh', 'x0_Maharashtra',\n",
       "       'x0_Manipur', 'x0_Mizoram', 'x0_Odisha', 'x0_Puducherry',\n",
       "       'x0_Punjab', 'x0_Rajasthan', 'x0_Sikkim', 'x0_Tamil Nadu',\n",
       "       'x0_Telangana', 'x0_Tripura', 'x0_Uttar Pradesh', 'x0_Uttarakhand',\n",
       "       'x0_West Bengal', 'x1_Ahmedabad', 'x1_Bengaluru', 'x1_Chandigarh',\n",
       "       'x1_Chennai', 'x1_Coimbatore', 'x1_Delhi', 'x1_Ghaziabad',\n",
       "       'x1_Gurgaon', 'x1_Hyderabad', 'x1_Indore', 'x1_Jaipur',\n",
       "       'x1_Kolkata', 'x1_Lucknow', 'x1_Mumbai', 'x1_Nagpur', 'x1_Pune',\n",
       "       'x1_Surat', 'x1_Thane', 'x1_Vadodara', 'x1_Visakhapatnam',\n",
       "       'x1_other', 'x2_0', 'x2_ACCENTURE SERVICES PVT LTD',\n",
       "       'x2_COGNIZANT TECHNOLOGY SOLUTIONS INDIA PVT LTD', 'x2_GENPACT',\n",
       "       'x2_GOOGLE', 'x2_HCL TECHNOLOGIES LTD', 'x2_HDFC BANK LTD',\n",
       "       'x2_IBM CORPORATION', 'x2_ICICI BANK LTD', 'x2_INDIAN AIR FORCE',\n",
       "       'x2_INDIAN ARMY', 'x2_INFOSYS TECHNOLOGIES',\n",
       "       'x2_TATA CONSULTANCY SERVICES LTD (TCS)',\n",
       "       'x2_TYPE SLOWLY FOR AUTO FILL', 'x2_WIPRO TECHNOLOGIES',\n",
       "       'x2_other'], dtype=object)"
      ]
     },
     "execution_count": 91,
     "metadata": {},
     "output_type": "execute_result"
    }
   ],
   "source": [
    "grid.best_estimator_['preprocessing'].transformer_list[0][1]['cat_encoder'].get_feature_names()\n",
    "# .transformers_[1][1]['onehot']\\\n",
    "#                    .get_feature_names(categorical_features)"
   ]
  },
  {
   "cell_type": "code",
   "execution_count": 46,
   "metadata": {},
   "outputs": [
    {
     "data": {
      "image/png": "[encoded data removed]",
      "text/plain": [
       "<Figure size 1440x288 with 1 Axes>"
      ]
     },
     "metadata": {
      "needs_background": "light"
     },
     "output_type": "display_data"
    }
   ],
   "source": [
    "f_imp = grid.best_estimator_['classifier'].feature_importances_\n",
    "plt.figure(figsize=(20,4))\n",
    "sns.barplot(x=[n for n,_ in enumerate(f_imp)], y=f_imp)\n",
    "plt.xticks(rotation=90)\n",
    "plt.xlabel('Feature index')\n",
    "plt.ylabel('Feature importance')\n",
    "plt.title('Feature importances', fontdict={'fontsize': 15})\n",
    "plt.show()"
   ]
  },
  {
   "cell_type": "markdown",
   "metadata": {},
   "source": [
    "## XGBoost model"
   ]
  },
  {
   "cell_type": "markdown",
   "metadata": {},
   "source": [
    "With default settings this model performes quite well - still overfitting the data."
   ]
  },
  {
   "cell_type": "code",
   "execution_count": 59,
   "metadata": {},
   "outputs": [
    {
     "name": "stdout",
     "output_type": "stream",
     "text": [
      "[22:22:18] WARNING: C:/Users/Administrator/workspace/xgboost-win64_release_1.3.0/src/learner.cc:1061: Starting in XGBoost 1.3.0, the default evaluation metric used with the objective 'binary:logistic' was changed from 'error' to 'logloss'. Explicitly set eval_metric if you'd like to restore the old behavior.\n",
      "Train ROC_AUC Score: 0.9761\n",
      "Test ROC_AUC Score: 0.8467\n"
     ]
    }
   ],
   "source": [
    "pipe = Pipeline([\n",
    "    ('preprocessing', preprocess_pipeline),\n",
    "    ('classifier', XGBClassifier(objective='binary:logistic', use_label_encoder=False))\n",
    "])\n",
    "pipe.fit(X_train, y_train)\n",
    "model_scoring(pipe, y_train, X_train, y_test, X_test)"
   ]
  },
  {
   "cell_type": "markdown",
   "metadata": {},
   "source": [
    "With _balancing of positive and negative weights_ model seems to overfit the data, but for more complex settings it will actually enhence the performance."
   ]
  },
  {
   "cell_type": "code",
   "execution_count": 60,
   "metadata": {},
   "outputs": [
    {
     "name": "stdout",
     "output_type": "stream",
     "text": [
      "67.36\n"
     ]
    }
   ],
   "source": [
    "counter = Counter(y)\n",
    "scale_weight = np.round(counter[0]/counter[1], 2)\n",
    "print(scale_weight)"
   ]
  },
  {
   "cell_type": "code",
   "execution_count": 61,
   "metadata": {},
   "outputs": [
    {
     "name": "stdout",
     "output_type": "stream",
     "text": [
      "[22:23:04] WARNING: C:/Users/Administrator/workspace/xgboost-win64_release_1.3.0/src/learner.cc:1061: Starting in XGBoost 1.3.0, the default evaluation metric used with the objective 'binary:logistic' was changed from 'error' to 'logloss'. Explicitly set eval_metric if you'd like to restore the old behavior.\n",
      "Train ROC_AUC Score: 0.9823\n",
      "Test ROC_AUC Score: 0.8363\n"
     ]
    }
   ],
   "source": [
    "pipe = Pipeline([\n",
    "    ('preprocessing', preprocess_pipeline),\n",
    "    ('classifier', XGBClassifier(objective='binary:logistic', scale_pos_weight=scale_weight, use_label_encoder=False))\n",
    "])\n",
    "pipe.fit(X_train, y_train)\n",
    "model_scoring(pipe, y_train, X_train, y_test, X_test)"
   ]
  },
  {
   "cell_type": "markdown",
   "metadata": {},
   "source": [
    "**First 'blind' shot of parameters:**"
   ]
  },
  {
   "cell_type": "code",
   "execution_count": 63,
   "metadata": {},
   "outputs": [
    {
     "name": "stdout",
     "output_type": "stream",
     "text": [
      "[22:24:19] WARNING: C:/Users/Administrator/workspace/xgboost-win64_release_1.3.0/src/learner.cc:1061: Starting in XGBoost 1.3.0, the default evaluation metric used with the objective 'binary:logistic' was changed from 'error' to 'logloss'. Explicitly set eval_metric if you'd like to restore the old behavior.\n",
      "Train ROC_AUC Score: 0.9138\n",
      "Test ROC_AUC Score: 0.8561\n"
     ]
    }
   ],
   "source": [
    "pipe = Pipeline([\n",
    "    ('preprocessing', preprocess_pipeline),\n",
    "    ('var_cut', VarianceThreshold()),\n",
    "    ('classifier', XGBClassifier(n_estimators=150, learning_rate=0.03, max_depth=7,\n",
    "                      use_label_encoder=False,\n",
    "                      objective='binary:logistic'))\n",
    "])\n",
    "pipe.fit(X_train, y_train)\n",
    "model_scoring(pipe, y_train, X_train, y_test, X_test)"
   ]
  },
  {
   "cell_type": "markdown",
   "metadata": {},
   "source": [
    "The same model, but with scale weights:"
   ]
  },
  {
   "cell_type": "code",
   "execution_count": 64,
   "metadata": {},
   "outputs": [
    {
     "name": "stdout",
     "output_type": "stream",
     "text": [
      "[22:25:02] WARNING: C:/Users/Administrator/workspace/xgboost-win64_release_1.3.0/src/learner.cc:1061: Starting in XGBoost 1.3.0, the default evaluation metric used with the objective 'binary:logistic' was changed from 'error' to 'logloss'. Explicitly set eval_metric if you'd like to restore the old behavior.\n",
      "Train ROC_AUC Score: 0.9264\n",
      "Test ROC_AUC Score: 0.8586\n"
     ]
    }
   ],
   "source": [
    "pipe = Pipeline([\n",
    "    ('preprocessing', preprocess_pipeline),\n",
    "    ('var_cut', VarianceThreshold()),\n",
    "    ('classifier', XGBClassifier(n_estimators=150, learning_rate=0.03, max_depth=7, scale_pos_weight=scale_weight,\n",
    "                      use_label_encoder=False,\n",
    "                      objective='binary:logistic'))\n",
    "])\n",
    "pipe.fit(X_train, y_train)\n",
    "model_scoring(pipe, y_train, X_train, y_test, X_test)"
   ]
  },
  {
   "cell_type": "markdown",
   "metadata": {},
   "source": [
    "Manual correction of parameters:"
   ]
  },
  {
   "cell_type": "code",
   "execution_count": 66,
   "metadata": {},
   "outputs": [
    {
     "name": "stdout",
     "output_type": "stream",
     "text": [
      "[22:27:10] WARNING: C:/Users/Administrator/workspace/xgboost-win64_release_1.3.0/src/learner.cc:1061: Starting in XGBoost 1.3.0, the default evaluation metric used with the objective 'binary:logistic' was changed from 'error' to 'logloss'. Explicitly set eval_metric if you'd like to restore the old behavior.\n",
      "Train ROC_AUC Score: 0.9482\n",
      "Test ROC_AUC Score: 0.8631\n"
     ]
    }
   ],
   "source": [
    "pipe = Pipeline([\n",
    "    ('preprocessing', preprocess_pipeline),\n",
    "    ('var_cut', VarianceThreshold()),\n",
    "    ('classifier', XGBClassifier(n_estimators=180, learning_rate=0.026, max_depth=8, scale_pos_weight=scale_weight,\n",
    "                      use_label_encoder=False,\n",
    "                      objective='binary:logistic'))\n",
    "])\n",
    "pipe.fit(X_train, y_train)\n",
    "model_scoring(pipe, y_train, X_train, y_test, X_test)"
   ]
  },
  {
   "cell_type": "markdown",
   "metadata": {},
   "source": [
    "### Searching for optimal parameter combination (XGBoost)"
   ]
  },
  {
   "cell_type": "code",
   "execution_count": 104,
   "metadata": {},
   "outputs": [
    {
     "name": "stderr",
     "output_type": "stream",
     "text": [
      "c:\\users\\antos\\appdata\\local\\programs\\python\\python38\\lib\\site-packages\\xgboost\\sklearn.py:888: UserWarning: The use of label encoder in XGBClassifier is deprecated and will be removed in a future release. To remove this warning, do the following: 1) Pass option use_label_encoder=False when constructing XGBClassifier object; and 2) Encode your labels (y) as integers starting with 0, i.e. 0, 1, 2, ..., [num_class - 1].\n",
      "  warnings.warn(label_encoder_deprecation_msg, UserWarning)\n"
     ]
    },
    {
     "name": "stdout",
     "output_type": "stream",
     "text": [
      "[02:26:44] WARNING: C:/Users/Administrator/workspace/xgboost-win64_release_1.3.0/src/learner.cc:1061: Starting in XGBoost 1.3.0, the default evaluation metric used with the objective 'binary:logistic' was changed from 'error' to 'logloss'. Explicitly set eval_metric if you'd like to restore the old behavior.\n"
     ]
    },
    {
     "data": {
      "text/plain": [
       "RandomizedSearchCV(cv=RepeatedStratifiedKFold(n_repeats=5, n_splits=5, random_state=None),\n",
       "                   estimator=XGBClassifier(base_score=None, booster=None,\n",
       "                                           colsample_bylevel=None,\n",
       "                                           colsample_bynode=None,\n",
       "                                           colsample_bytree=None, gamma=None,\n",
       "                                           gpu_id=None, importance_type='gain',\n",
       "                                           interaction_constraints=None,\n",
       "                                           learning_rate=None,\n",
       "                                           max_delta_step=None, max_depth=None,\n",
       "                                           min_child_wei...\n",
       "                                           verbosity=None),\n",
       "                   n_iter=100, n_jobs=-1,\n",
       "                   param_distributions={'gamma': <scipy.stats._distn_infrastructure.rv_frozen object at 0x000001F7BE456C10>,\n",
       "                                        'learning_rate': <scipy.stats._distn_infrastructure.rv_frozen object at 0x000001F7BE456F40>,\n",
       "                                        'max_depth': <scipy.stats._distn_infrastructure.rv_frozen object at 0x000001F7A5E38040>,\n",
       "                                        'n_estimators': [180]},\n",
       "                   scoring='roc_auc')"
      ]
     },
     "execution_count": 104,
     "metadata": {},
     "output_type": "execute_result"
    }
   ],
   "source": [
    "model = XGBClassifier(objective='binary:logistic', scale_pos_weight=scale_weight)\n",
    "param_grid = {\"n_estimators\": [180], \n",
    "              \"learning_rate\": ss.uniform(0.01, 0.028),\n",
    "              \"max_depth\": ss.randint(7, 9),\n",
    "              \"gamma\": ss.uniform(0, 0.05)}\n",
    "\n",
    "optimizer = RandomizedSearchCV(model, param_grid, \n",
    "                               n_iter=100, \n",
    "                               cv=skf, \n",
    "                               n_jobs=-1,\n",
    "                               scoring='roc_auc')\n",
    "optimizer.fit(X_train, y_train)"
   ]
  },
  {
   "cell_type": "code",
   "execution_count": 105,
   "metadata": {},
   "outputs": [
    {
     "data": {
      "text/plain": [
       "{'gamma': 0.04966376744888,\n",
       " 'learning_rate': 0.03043095178371477,\n",
       " 'max_depth': 7,\n",
       " 'n_estimators': 180}"
      ]
     },
     "execution_count": 105,
     "metadata": {},
     "output_type": "execute_result"
    }
   ],
   "source": [
    "optimizer.best_params_"
   ]
  },
  {
   "cell_type": "markdown",
   "metadata": {},
   "source": [
    "Optimized parameters turn out to perform similar to 'blind shot'.<br>"
   ]
  },
  {
   "cell_type": "code",
   "execution_count": 238,
   "metadata": {},
   "outputs": [],
   "source": [
    "gamma_opt = []\n",
    "learning_rate_opt = []\n",
    "max_depth_opt = []\n",
    "for n in optimizer.cv_results_['params']:\n",
    "    gamma_opt.append(n['gamma'])\n",
    "    learning_rate_opt.append(n['learning_rate'])\n",
    "    max_depth_opt.append(n['max_depth'])\n",
    "\n",
    "depth_7 = np.where(np.array(max_depth_opt)==7)\n",
    "depth_8 = np.where(np.array(max_depth_opt)==8)\n",
    "\n",
    "gamma_opt = np.array(gamma_opt)\n",
    "learning_rate_opt = np.array(learning_rate_opt)\n",
    "score_opt = optimizer.cv_results_['mean_test_score']"
   ]
  },
  {
   "cell_type": "code",
   "execution_count": 250,
   "metadata": {},
   "outputs": [
    {
     "data": {
      "image/png": "[encoded data removed]",
      "text/plain": [
       "<Figure size 1440x432 with 2 Axes>"
      ]
     },
     "metadata": {
      "needs_background": "light"
     },
     "output_type": "display_data"
    }
   ],
   "source": [
    "fig, axs = plt.subplots(1, 2, figsize=(20,6))\n",
    "\n",
    "axs[0] = sns.scatterplot(x=learning_rate_opt[depth_7], y=score_opt[depth_7], ax=axs[0])\n",
    "axs[0] = sns.scatterplot(x=learning_rate_opt[depth_8], y=score_opt[depth_8], ax=axs[0])\n",
    "axs[0].legend(['max_depth = 7', 'max_depth = 8'])\n",
    "axs[0].set_xlabel('learning_rate')\n",
    "axs[0].set_ylabel('CV score')\n",
    "axs[0].title.set_text('learning_rate influence on CV scoring')\n",
    "\n",
    "axs[1] = sns.scatterplot(x=gamma_opt[depth_7], y=score_opt[depth_7], size=learning_rate_opt[depth_7], sizes=(10, 250), alpha=.9, ax=axs[1], legend=False)\n",
    "axs[1] = sns.scatterplot(x=gamma_opt[depth_8], y=score_opt[depth_8], size=learning_rate_opt[depth_8], sizes=(10, 250), alpha=.9, ax=axs[1], legend=False)\n",
    "axs[1].legend(['max_depth = 7', 'max_depth = 8'])\n",
    "axs[1].set_xlabel('gamma')\n",
    "axs[1].set_ylabel('CV score')\n",
    "axs[1].title.set_text('gamma influence on CV scoring (point size=learning_rate)')\n",
    "\n",
    "fig.suptitle('Optimized parameters inspection', fontsize=20) \n",
    "plt.show()"
   ]
  },
  {
   "cell_type": "markdown",
   "metadata": {},
   "source": [
    "Unlike gamma's, learning_rate parameter's influence on performence is very noticable."
   ]
  },
  {
   "cell_type": "markdown",
   "metadata": {},
   "source": [
    "# Conclusions\n",
    "RFC performs really good on this dataset and so do XGBoost. Further optimization of parameters woud be a good path for even better performance, especially for XGBoost. Because of multitude of hyperparameters, another search strategy could be utilized for greater efficiency (possibly Hyperopt optimization would satisfy the needs).\n",
    "\n",
    "Both models score above 86% roc_auc for test set (for reproducibility with constant split seed)."
   ]
  }
 ],
 "metadata": {
  "kernelspec": {
   "display_name": "Python 3",
   "language": "python",
   "name": "python3"
  },
  "language_info": {
   "codemirror_mode": {
    "name": "ipython",
    "version": 3
   },
   "file_extension": ".py",
   "mimetype": "text/x-python",
   "name": "python",
   "nbconvert_exporter": "python",
   "pygments_lexer": "ipython3",
   "version": "3.8.3"
  }
 },
 "nbformat": 4,
 "nbformat_minor": 4
}
